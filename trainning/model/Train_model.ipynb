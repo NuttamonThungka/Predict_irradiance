{
 "cells": [
  {
   "cell_type": "code",
   "execution_count": 1,
   "id": "e806de7e",
   "metadata": {},
   "outputs": [],
   "source": [
    "import tensorflow as tf\n",
    "from keras.models import Sequential\n",
    "from keras.layers import Dense, Conv1D, Flatten\n",
    "from tensorflow.keras.layers import Conv2D, MaxPooling2D, Flatten, Dense, BatchNormalization, Activation, Add, AveragePooling2D, Concatenate\n",
    "from tensorflow.keras.models import Sequential\n",
    "from tensorflow import keras\n",
    "from tensorflow.keras import layers\n",
    "from keras.layers import concatenate\n",
    "import pandas as pd\n",
    "import numpy as np\n",
    "from sklearn.metrics import mean_squared_error, mean_absolute_error\n",
    "import matplotlib.pyplot as plt\n",
    "import os\n",
    "import joblib\n",
    "import seaborn as sns\n",
    "from statsmodels.regression.linear_model import OLS\n",
    "from statsmodels.tools import add_constant\n",
    "from sklearn.model_selection import train_test_split\n",
    "from sklearn.metrics import mean_absolute_error\n",
    "from sklearn.preprocessing import PolynomialFeatures\n",
    "from sklearn.linear_model import LinearRegression\n",
    "from sklearn.model_selection import cross_val_score, cross_validate"
   ]
  },
  {
   "cell_type": "code",
   "execution_count": 2,
   "id": "0039760d",
   "metadata": {},
   "outputs": [],
   "source": [
    "import os\n",
    "FOLDER_DATA = '/Users/khunnoot/Desktop/predict_irradiance/trainning/Data'\n",
    "Images = 'Image_train.csv'\n",
    "Attribute = 'Attribute_train.csv'"
   ]
  },
  {
   "cell_type": "code",
   "execution_count": 3,
   "id": "acdaa801",
   "metadata": {},
   "outputs": [],
   "source": [
    "Image_df = pd.read_csv(os.path.join(FOLDER_DATA, Images),parse_dates=['Datetime'])\n",
    "ATT = pd.read_csv(os.path.join(FOLDER_DATA, Attribute),parse_dates=['Datetime'])"
   ]
  },
  {
   "cell_type": "code",
   "execution_count": 4,
   "id": "5e01cdb0",
   "metadata": {},
   "outputs": [],
   "source": [
    "'''''''''\n",
    "\n",
    "Function: train_test_split(df, test_size=0.2, random_state=42, split_by_k=True)\n",
    "\n",
    "Inputs:\n",
    "\n",
    "df: The input dataframe containing the data to be split.\n",
    "test_size: The proportion of the data to be allocated for testing. It is typically expressed as a decimal value between 0 and 1.\n",
    "random_state: An optional parameter that sets the random seed for reproducibility. It ensures the same data split is obtained when the function is executed multiple times with the same random seed.\n",
    "split_by_k: A boolean flag indicating whether the data should be split based on the clear-sky index criteria.\n",
    "\n",
    "Outputs:\n",
    "\n",
    "Training dataframe: The dataframe containing the data for training.\n",
    "Testing dataframe: The dataframe containing the data for testing.\n",
    "\n",
    "The function performs the data split by shuffling the data from three sets based on the clear-sky index criteria:\n",
    "\n",
    "Set i) contains data points where the clear-sky index (k) is greater than 0.6.\n",
    "Set ii) contains data points where the clear-sky index is between 0.3 and 0.6 (inclusive).\n",
    "Set iii) contains data points where the clear-sky index is less than or equal to 0.3.\n",
    "\n",
    "The function then splits the shuffled data into training and testing sets according to the specified test size.\n",
    "\n",
    "'''''''''\n",
    "\n",
    "def train_test_splits(df, test_size=0.3, random_state=42, split_by_k = True):\n",
    "        df = df.copy()\n",
    "        df['date'] = df.index.date\n",
    "        INDEX = df[['site_name','k']].copy()\n",
    "        INDEX = INDEX.groupby(by=[INDEX.index.date,'site_name']).mean()\n",
    "        INDEX.reset_index(level=1, inplace=True)\n",
    "        \n",
    "        if split_by_k :\n",
    "            klow = INDEX[INDEX.k<=0.3]\n",
    "            kmed = INDEX[(INDEX.k>0.3) & (INDEX.k<=0.6)]\n",
    "            khigh =  INDEX[(INDEX.k>0.6)]\n",
    "            klow_test = klow.sample(frac=test_size,random_state=random_state)\n",
    "            kmed_test = kmed.sample(frac=test_size,random_state=random_state)\n",
    "            khigh_test = khigh.sample(frac=test_size,random_state=random_state)\n",
    "            X_test = pd.concat([klow_test, kmed_test, khigh_test])\n",
    "\n",
    "        else:\n",
    "            X_test = INDEX.sample(frac=test_size, random_state = random_state)\n",
    "            \n",
    "        X_test.reset_index(inplace=True)\n",
    "        X_test = X_test.rename(columns={'index':'date'})\n",
    "        X_test = X_test.drop(columns = ['k'])\n",
    "        X_test = df.reset_index().merge(X_test,on=['date','site_name']).set_index('Datetime')\n",
    "        X_train = pd.concat([df,X_test]).drop_duplicates(keep=False)\n",
    "        X_train.drop(columns=['date'],inplace = True); X_test.drop(columns=['date'],inplace = True)\n",
    "        \n",
    "        return X_train, X_test"
   ]
  },
  {
   "cell_type": "markdown",
   "id": "82e43181",
   "metadata": {},
   "source": [
    "# Regression model"
   ]
  },
  {
   "cell_type": "code",
   "execution_count": 5,
   "id": "38d5bad1",
   "metadata": {},
   "outputs": [
    {
     "data": {
      "text/html": [
       "<div>\n",
       "<style scoped>\n",
       "    .dataframe tbody tr th:only-of-type {\n",
       "        vertical-align: middle;\n",
       "    }\n",
       "\n",
       "    .dataframe tbody tr th {\n",
       "        vertical-align: top;\n",
       "    }\n",
       "\n",
       "    .dataframe thead th {\n",
       "        text-align: right;\n",
       "    }\n",
       "</style>\n",
       "<table border=\"1\" class=\"dataframe\">\n",
       "  <thead>\n",
       "    <tr style=\"text-align: right;\">\n",
       "      <th></th>\n",
       "      <th>site_name</th>\n",
       "      <th>CI0_cm</th>\n",
       "      <th>CI1_cm</th>\n",
       "      <th>Iclr</th>\n",
       "      <th>I</th>\n",
       "      <th>k</th>\n",
       "      <th>HR</th>\n",
       "      <th>CI0_ov</th>\n",
       "      <th>CI1_ov</th>\n",
       "    </tr>\n",
       "    <tr>\n",
       "      <th>Datetime</th>\n",
       "      <th></th>\n",
       "      <th></th>\n",
       "      <th></th>\n",
       "      <th></th>\n",
       "      <th></th>\n",
       "      <th></th>\n",
       "      <th></th>\n",
       "      <th></th>\n",
       "      <th></th>\n",
       "    </tr>\n",
       "  </thead>\n",
       "  <tbody>\n",
       "    <tr>\n",
       "      <th>2023-02-07 08:00:00+07:00</th>\n",
       "      <td>ISL001</td>\n",
       "      <td>0.415686</td>\n",
       "      <td>0.537255</td>\n",
       "      <td>172.570155</td>\n",
       "      <td>110.3633</td>\n",
       "      <td>0.639527</td>\n",
       "      <td>8</td>\n",
       "      <td>0.090196</td>\n",
       "      <td>0.101961</td>\n",
       "    </tr>\n",
       "    <tr>\n",
       "      <th>2023-02-07 08:30:00+07:00</th>\n",
       "      <td>ISL001</td>\n",
       "      <td>0.317647</td>\n",
       "      <td>0.415686</td>\n",
       "      <td>288.475645</td>\n",
       "      <td>208.3990</td>\n",
       "      <td>0.722415</td>\n",
       "      <td>8</td>\n",
       "      <td>0.117647</td>\n",
       "      <td>0.090196</td>\n",
       "    </tr>\n",
       "    <tr>\n",
       "      <th>2023-02-07 09:00:00+07:00</th>\n",
       "      <td>ISL001</td>\n",
       "      <td>0.333333</td>\n",
       "      <td>0.317647</td>\n",
       "      <td>401.491557</td>\n",
       "      <td>437.6490</td>\n",
       "      <td>1.090058</td>\n",
       "      <td>9</td>\n",
       "      <td>0.070588</td>\n",
       "      <td>0.117647</td>\n",
       "    </tr>\n",
       "    <tr>\n",
       "      <th>2023-02-07 09:30:00+07:00</th>\n",
       "      <td>ISL001</td>\n",
       "      <td>0.388235</td>\n",
       "      <td>0.333333</td>\n",
       "      <td>506.299490</td>\n",
       "      <td>496.7265</td>\n",
       "      <td>0.981092</td>\n",
       "      <td>9</td>\n",
       "      <td>0.094118</td>\n",
       "      <td>0.070588</td>\n",
       "    </tr>\n",
       "    <tr>\n",
       "      <th>2023-02-07 10:00:00+07:00</th>\n",
       "      <td>ISL001</td>\n",
       "      <td>0.345098</td>\n",
       "      <td>0.388235</td>\n",
       "      <td>599.632417</td>\n",
       "      <td>482.6430</td>\n",
       "      <td>0.804898</td>\n",
       "      <td>10</td>\n",
       "      <td>0.062745</td>\n",
       "      <td>0.094118</td>\n",
       "    </tr>\n",
       "  </tbody>\n",
       "</table>\n",
       "</div>"
      ],
      "text/plain": [
       "                          site_name    CI0_cm    CI1_cm        Iclr         I  \\\n",
       "Datetime                                                                        \n",
       "2023-02-07 08:00:00+07:00    ISL001  0.415686  0.537255  172.570155  110.3633   \n",
       "2023-02-07 08:30:00+07:00    ISL001  0.317647  0.415686  288.475645  208.3990   \n",
       "2023-02-07 09:00:00+07:00    ISL001  0.333333  0.317647  401.491557  437.6490   \n",
       "2023-02-07 09:30:00+07:00    ISL001  0.388235  0.333333  506.299490  496.7265   \n",
       "2023-02-07 10:00:00+07:00    ISL001  0.345098  0.388235  599.632417  482.6430   \n",
       "\n",
       "                                  k  HR    CI0_ov    CI1_ov  \n",
       "Datetime                                                     \n",
       "2023-02-07 08:00:00+07:00  0.639527   8  0.090196  0.101961  \n",
       "2023-02-07 08:30:00+07:00  0.722415   8  0.117647  0.090196  \n",
       "2023-02-07 09:00:00+07:00  1.090058   9  0.070588  0.117647  \n",
       "2023-02-07 09:30:00+07:00  0.981092   9  0.094118  0.070588  \n",
       "2023-02-07 10:00:00+07:00  0.804898  10  0.062745  0.094118  "
      ]
     },
     "execution_count": 5,
     "metadata": {},
     "output_type": "execute_result"
    }
   ],
   "source": [
    "df = ATT.copy()\n",
    "df.set_index('Datetime',inplace = True)\n",
    "df.head(5)"
   ]
  },
  {
   "cell_type": "markdown",
   "id": "29bd4c97",
   "metadata": {},
   "source": [
    "    feature 1 : Iclr\n",
    "    feature 2 : CI0_cm\n",
    "    feature 3 : CI0_ov\n",
    "    feature 4 : Iclr, CI0_cm\n",
    "    feature 5 : Iclr, CI0_ov\n",
    "    feature 6 : CI0_cm, CI0_ov\n",
    "    feature 7 : CI0_cm, CI0_ov, Iclr"
   ]
  },
  {
   "cell_type": "markdown",
   "id": "ee41b03b",
   "metadata": {},
   "source": [
    "## Model training (Linear regression)"
   ]
  },
  {
   "cell_type": "code",
   "execution_count": 6,
   "id": "dbc722a1",
   "metadata": {},
   "outputs": [],
   "source": [
    "X = df[['site_name','Iclr','CI0_cm','CI0_ov','k']]\n",
    "y = df[['site_name','I','k']]\n",
    "\n",
    "X_train, X_test = train_test_splits(X, test_size = 0.5, random_state=42, split_by_k = True)\n",
    "y_train, y_test = train_test_splits(y, test_size = 0.5, random_state=42, split_by_k = True)\n",
    "X_train = X_train.drop(columns=['site_name','k'])\n",
    "y_train = y_train.drop(columns=['site_name','k'])\n",
    "\n",
    "X_test = X_test.drop(columns=['k'])\n",
    "y_test = y_test.drop(columns=['k'])"
   ]
  },
  {
   "cell_type": "code",
   "execution_count": 7,
   "id": "62fbf68a",
   "metadata": {},
   "outputs": [],
   "source": [
    "predictors ={'ft1':X_train[['Iclr']],\n",
    "             'ft2':X_train[['CI0_cm']],\n",
    "             'ft3':X_train[['CI0_ov']],\n",
    "             'ft4':X_train[['Iclr','CI0_cm']],\n",
    "             'ft5':X_train[['Iclr','CI0_ov']],\n",
    "             'ft6':X_train[['CI0_cm','CI0_ov']],\n",
    "             'ft7':X_train[['Iclr','CI0_cm','CI0_ov']]}"
   ]
  },
  {
   "cell_type": "markdown",
   "id": "c1ab9daa",
   "metadata": {},
   "source": [
    "## Model selection criterion"
   ]
  },
  {
   "cell_type": "code",
   "execution_count": 8,
   "id": "76786f2e",
   "metadata": {},
   "outputs": [
    {
     "name": "stdout",
     "output_type": "stream",
     "text": [
      "ft1\r",
      "ft2\r",
      "ft3\r",
      "ft4\r",
      "ft5\r",
      "ft6\r",
      "ft7\r"
     ]
    }
   ],
   "source": [
    "train_score=[]\n",
    "test_score=[]\n",
    "aic = []\n",
    "bic = []\n",
    "for predictor in predictors:\n",
    "    print(predictor,end='\\r')\n",
    "    feature =  predictors[predictor]\n",
    "    model = LinearRegression()\n",
    "    cve = cross_validate(model, feature,y_train, cv=5, scoring='neg_mean_absolute_error',return_train_score=True)\n",
    "    regr = OLS(y_train, add_constant(feature)).fit()\n",
    "    train_score.append(-cve['train_score'].mean())\n",
    "    test_score.append(-cve['test_score'].mean())\n",
    "    aic.append(regr.aic/regr.nobs)\n",
    "    bic.append(regr.bic/regr.nobs)"
   ]
  },
  {
   "cell_type": "code",
   "execution_count": 9,
   "id": "706b28f9",
   "metadata": {},
   "outputs": [
    {
     "data": {
      "image/png": "[encoded data removed]",
      "text/plain": [
       "<Figure size 640x480 with 1 Axes>"
      ]
     },
     "metadata": {},
     "output_type": "display_data"
    }
   ],
   "source": [
    "sns.set()\n",
    "ind = [d for d in range(7)]\n",
    "plt.plot(ind ,test_score,'-o',color='red',label = \"cross validation error\")\n",
    "plt.plot(ind ,train_score,'-x',color='blue',label = \"training error\")\n",
    "plt.legend()\n",
    "plt.xlabel('predictor',fontsize=15)\n",
    "plt.ylabel('MAE $[W/m^2]$',fontsize=15)\n",
    "plt.title('5-fold cross validation error',fontsize=20)\n",
    "plt.xticks(ind,['$I_{clr}$','$CI_{ov}$','$CI_{ov}$','$I_{clr}$,$CI_{cm}$','$I_{clr}$,$CI_{ov}$',\n",
    "                '$CI_{cm}$,$CI_{ov}$','$I_{clr}$,$CI_{cm}$,$CI_{ov}$']);"
   ]
  },
  {
   "cell_type": "code",
   "execution_count": 10,
   "id": "ea121ded",
   "metadata": {},
   "outputs": [
    {
     "data": {
      "image/png": "[encoded data removed]",
      "text/plain": [
       "<Figure size 640x480 with 1 Axes>"
      ]
     },
     "metadata": {},
     "output_type": "display_data"
    }
   ],
   "source": [
    "sns.set()\n",
    "plt.plot(ind ,aic,'-o',color='red',label = \"aic\")\n",
    "plt.plot(ind ,bic,'-x',color='blue',label = \"bic\")\n",
    "plt.legend()\n",
    "plt.xlabel('predictor',fontsize=15)\n",
    "plt.ylabel('score',fontsize=15)\n",
    "plt.title('Model selection scores',fontsize=20)\n",
    "plt.xticks(ind,['$I_{clr}$','$CI_{ov}$','$CI_{ov}$','$I_{clr}$,$CI_{cm}$','$I_{clr}$,$CI_{ov}$',\n",
    "                '$CI_{cm}$,$CI_{ov}$','$I_{clr}$,$CI_{cm}$,$CI_{ov}$']);"
   ]
  },
  {
   "cell_type": "code",
   "execution_count": 11,
   "id": "6623b92f",
   "metadata": {},
   "outputs": [
    {
     "data": {
      "text/plain": [
       "137.98626341664271"
      ]
     },
     "execution_count": 11,
     "metadata": {},
     "output_type": "execute_result"
    }
   ],
   "source": [
    "model = LinearRegression()\n",
    "model.fit(X_train,y_train)\n",
    "y_test['OLS'] = model.predict(X_test.drop(columns=['site_name']))\n",
    "np.sqrt(mean_squared_error(y_test[['I']], y_test[['OLS']]))"
   ]
  },
  {
   "cell_type": "code",
   "execution_count": 12,
   "id": "51903c6d",
   "metadata": {},
   "outputs": [
    {
     "name": "stdout",
     "output_type": "stream",
     "text": [
      "[[   0.77289927 -576.66607121 -173.83361704]]\n",
      "[294.26453364]\n"
     ]
    }
   ],
   "source": [
    "print(model.coef_)\n",
    "print(model.intercept_)"
   ]
  },
  {
   "cell_type": "code",
   "execution_count": 13,
   "id": "c2d58c2f",
   "metadata": {},
   "outputs": [
    {
     "data": {
      "text/html": [
       "<div>\n",
       "<style scoped>\n",
       "    .dataframe tbody tr th:only-of-type {\n",
       "        vertical-align: middle;\n",
       "    }\n",
       "\n",
       "    .dataframe tbody tr th {\n",
       "        vertical-align: top;\n",
       "    }\n",
       "\n",
       "    .dataframe thead th {\n",
       "        text-align: right;\n",
       "    }\n",
       "</style>\n",
       "<table border=\"1\" class=\"dataframe\">\n",
       "  <thead>\n",
       "    <tr style=\"text-align: right;\">\n",
       "      <th></th>\n",
       "      <th>site_name</th>\n",
       "      <th>I</th>\n",
       "      <th>OLS</th>\n",
       "    </tr>\n",
       "    <tr>\n",
       "      <th>Datetime</th>\n",
       "      <th></th>\n",
       "      <th></th>\n",
       "      <th></th>\n",
       "    </tr>\n",
       "  </thead>\n",
       "  <tbody>\n",
       "    <tr>\n",
       "      <th>2023-02-07 08:00:00+07:00</th>\n",
       "      <td>ISL001</td>\n",
       "      <td>110.3633</td>\n",
       "      <td>172.252600</td>\n",
       "    </tr>\n",
       "    <tr>\n",
       "      <th>2023-02-07 08:30:00+07:00</th>\n",
       "      <td>ISL001</td>\n",
       "      <td>208.3990</td>\n",
       "      <td>313.599855</td>\n",
       "    </tr>\n",
       "    <tr>\n",
       "      <th>2023-02-07 09:00:00+07:00</th>\n",
       "      <td>ISL001</td>\n",
       "      <td>437.6490</td>\n",
       "      <td>400.084434</td>\n",
       "    </tr>\n",
       "    <tr>\n",
       "      <th>2023-02-07 09:30:00+07:00</th>\n",
       "      <td>ISL001</td>\n",
       "      <td>496.7265</td>\n",
       "      <td>445.340109</td>\n",
       "    </tr>\n",
       "    <tr>\n",
       "      <th>2023-02-07 10:00:00+07:00</th>\n",
       "      <td>ISL001</td>\n",
       "      <td>482.6430</td>\n",
       "      <td>547.806455</td>\n",
       "    </tr>\n",
       "  </tbody>\n",
       "</table>\n",
       "</div>"
      ],
      "text/plain": [
       "                          site_name         I         OLS\n",
       "Datetime                                                 \n",
       "2023-02-07 08:00:00+07:00    ISL001  110.3633  172.252600\n",
       "2023-02-07 08:30:00+07:00    ISL001  208.3990  313.599855\n",
       "2023-02-07 09:00:00+07:00    ISL001  437.6490  400.084434\n",
       "2023-02-07 09:30:00+07:00    ISL001  496.7265  445.340109\n",
       "2023-02-07 10:00:00+07:00    ISL001  482.6430  547.806455"
      ]
     },
     "execution_count": 13,
     "metadata": {},
     "output_type": "execute_result"
    }
   ],
   "source": [
    "compare = y_test.copy()\n",
    "compare.head()"
   ]
  },
  {
   "cell_type": "markdown",
   "id": "15905a98",
   "metadata": {},
   "source": [
    "## Model training (Polynomial Regression)"
   ]
  },
  {
   "cell_type": "code",
   "execution_count": 14,
   "id": "26aa146e",
   "metadata": {},
   "outputs": [],
   "source": [
    "X = df[['site_name','Iclr','CI0_cm','CI0_ov','k']]\n",
    "y = df[['site_name','k']]\n",
    "\n",
    "X_train, X_test = train_test_splits(X, test_size=0.5, random_state=42, split_by_k = True)\n",
    "y_train, y_test = train_test_splits(y, test_size=0.5, random_state=42, split_by_k = True)\n",
    "X_train = X_train.drop(columns=['site_name','k'])\n",
    "y_train = y_train.drop(columns=['site_name'])"
   ]
  },
  {
   "cell_type": "code",
   "execution_count": 15,
   "id": "719f20a9",
   "metadata": {},
   "outputs": [],
   "source": [
    "train_score=[]\n",
    "test_score=[]\n",
    "degress = [int(d) for d in range(1,16)]\n",
    "for e in degress:\n",
    "    poly = PolynomialFeatures(degree=e, include_bias=False)\n",
    "    poly_features = poly.fit_transform(X_train[['CI0_cm']])\n",
    "    poly_features = poly_features\n",
    "    poly_reg_model = LinearRegression()\n",
    "    cve=cross_validate(poly_reg_model, poly_features, y_train, cv=5, scoring='neg_mean_absolute_error',return_train_score=True)\n",
    "    train_score.append(-cve['train_score'].mean())\n",
    "    test_score.append(-cve['test_score'].mean())"
   ]
  },
  {
   "cell_type": "code",
   "execution_count": 16,
   "id": "80be8008",
   "metadata": {},
   "outputs": [
    {
     "data": {
      "text/plain": [
       "Text(0.5, 1.0, '5-fold cross validation error')"
      ]
     },
     "execution_count": 16,
     "metadata": {},
     "output_type": "execute_result"
    },
    {
     "data": {
      "image/png": "[encoded data removed]",
      "text/plain": [
       "<Figure size 640x480 with 1 Axes>"
      ]
     },
     "metadata": {},
     "output_type": "display_data"
    }
   ],
   "source": [
    "sns.set(style = 'whitegrid')\n",
    "plt.plot(degress ,test_score,'-o',label = \"test\",color='red')\n",
    "plt.plot(degress ,train_score,'-x',label = \"train\",color='blue')\n",
    "plt.legend()\n",
    "plt.xlabel('Degree of a polynomial')\n",
    "plt.ylabel('MAE of clear-sky index')\n",
    "plt.title('5-fold cross validation error')"
   ]
  },
  {
   "cell_type": "code",
   "execution_count": 17,
   "id": "f74d0cab",
   "metadata": {},
   "outputs": [
    {
     "data": {
      "text/plain": [
       "95.1597977077146"
      ]
     },
     "execution_count": 17,
     "metadata": {},
     "output_type": "execute_result"
    }
   ],
   "source": [
    "poly = PolynomialFeatures(degree=7, include_bias=False)\n",
    "poly_features = poly.fit_transform(X_train[['CI0_cm']])\n",
    "poly_features = poly_features\n",
    "poly_reg_model = LinearRegression()\n",
    "poly_reg_model.fit(poly_features,y_train)\n",
    "poly_test = poly.fit_transform(X_test[['CI0_cm']])\n",
    "y_test['khat'] = poly_reg_model.predict(poly_test)\n",
    "y_test['Iclr'] = X_test.Iclr\n",
    "y_test['I'] = y_test.k*y_test.Iclr\n",
    "y_test['Ihat']=y_test.khat*y_test.Iclr\n",
    "mean_absolute_error(y_test[['I']], y_test[['Ihat']])"
   ]
  },
  {
   "cell_type": "code",
   "execution_count": 18,
   "id": "7b1c7b00",
   "metadata": {},
   "outputs": [
    {
     "name": "stdout",
     "output_type": "stream",
     "text": [
      "[[  153.47940745  -936.21152674  3009.21031974 -5548.24698691\n",
      "   5879.66490264 -3324.83285837   776.34008712]]\n",
      "[-9.20078252]\n"
     ]
    }
   ],
   "source": [
    "print(poly_reg_model.coef_)\n",
    "print(poly_reg_model.intercept_)"
   ]
  },
  {
   "cell_type": "code",
   "execution_count": 19,
   "id": "5cad309f",
   "metadata": {},
   "outputs": [
    {
     "data": {
      "text/html": [
       "<div>\n",
       "<style scoped>\n",
       "    .dataframe tbody tr th:only-of-type {\n",
       "        vertical-align: middle;\n",
       "    }\n",
       "\n",
       "    .dataframe tbody tr th {\n",
       "        vertical-align: top;\n",
       "    }\n",
       "\n",
       "    .dataframe thead th {\n",
       "        text-align: right;\n",
       "    }\n",
       "</style>\n",
       "<table border=\"1\" class=\"dataframe\">\n",
       "  <thead>\n",
       "    <tr style=\"text-align: right;\">\n",
       "      <th></th>\n",
       "      <th>site_name</th>\n",
       "      <th>I</th>\n",
       "      <th>OLS</th>\n",
       "      <th>poly</th>\n",
       "    </tr>\n",
       "    <tr>\n",
       "      <th>Datetime</th>\n",
       "      <th></th>\n",
       "      <th></th>\n",
       "      <th></th>\n",
       "      <th></th>\n",
       "    </tr>\n",
       "  </thead>\n",
       "  <tbody>\n",
       "    <tr>\n",
       "      <th>2023-02-07 08:00:00+07:00</th>\n",
       "      <td>ISL001</td>\n",
       "      <td>110.3633</td>\n",
       "      <td>172.252600</td>\n",
       "      <td>138.025779</td>\n",
       "    </tr>\n",
       "    <tr>\n",
       "      <th>2023-02-07 08:30:00+07:00</th>\n",
       "      <td>ISL001</td>\n",
       "      <td>208.3990</td>\n",
       "      <td>313.599855</td>\n",
       "      <td>260.070233</td>\n",
       "    </tr>\n",
       "    <tr>\n",
       "      <th>2023-02-07 09:00:00+07:00</th>\n",
       "      <td>ISL001</td>\n",
       "      <td>437.6490</td>\n",
       "      <td>400.084434</td>\n",
       "      <td>353.791449</td>\n",
       "    </tr>\n",
       "    <tr>\n",
       "      <th>2023-02-07 09:30:00+07:00</th>\n",
       "      <td>ISL001</td>\n",
       "      <td>496.7265</td>\n",
       "      <td>445.340109</td>\n",
       "      <td>416.610174</td>\n",
       "    </tr>\n",
       "    <tr>\n",
       "      <th>2023-02-07 10:00:00+07:00</th>\n",
       "      <td>ISL001</td>\n",
       "      <td>482.6430</td>\n",
       "      <td>547.806455</td>\n",
       "      <td>519.840215</td>\n",
       "    </tr>\n",
       "    <tr>\n",
       "      <th>...</th>\n",
       "      <td>...</td>\n",
       "      <td>...</td>\n",
       "      <td>...</td>\n",
       "      <td>...</td>\n",
       "    </tr>\n",
       "    <tr>\n",
       "      <th>2023-06-29 14:00:00+07:00</th>\n",
       "      <td>ISL042</td>\n",
       "      <td>341.7507</td>\n",
       "      <td>661.496136</td>\n",
       "      <td>676.362402</td>\n",
       "    </tr>\n",
       "    <tr>\n",
       "      <th>2023-06-29 14:30:00+07:00</th>\n",
       "      <td>ISL042</td>\n",
       "      <td>807.5103</td>\n",
       "      <td>799.864254</td>\n",
       "      <td>525.121323</td>\n",
       "    </tr>\n",
       "    <tr>\n",
       "      <th>2023-06-29 15:00:00+07:00</th>\n",
       "      <td>ISL042</td>\n",
       "      <td>620.6790</td>\n",
       "      <td>702.650892</td>\n",
       "      <td>714.141976</td>\n",
       "    </tr>\n",
       "    <tr>\n",
       "      <th>2023-06-29 15:30:00+07:00</th>\n",
       "      <td>ISL042</td>\n",
       "      <td>587.0647</td>\n",
       "      <td>622.343362</td>\n",
       "      <td>619.238278</td>\n",
       "    </tr>\n",
       "    <tr>\n",
       "      <th>2023-06-29 16:00:00+07:00</th>\n",
       "      <td>ISL042</td>\n",
       "      <td>243.3112</td>\n",
       "      <td>437.576804</td>\n",
       "      <td>410.244368</td>\n",
       "    </tr>\n",
       "  </tbody>\n",
       "</table>\n",
       "<p>3730 rows × 4 columns</p>\n",
       "</div>"
      ],
      "text/plain": [
       "                          site_name         I         OLS        poly\n",
       "Datetime                                                             \n",
       "2023-02-07 08:00:00+07:00    ISL001  110.3633  172.252600  138.025779\n",
       "2023-02-07 08:30:00+07:00    ISL001  208.3990  313.599855  260.070233\n",
       "2023-02-07 09:00:00+07:00    ISL001  437.6490  400.084434  353.791449\n",
       "2023-02-07 09:30:00+07:00    ISL001  496.7265  445.340109  416.610174\n",
       "2023-02-07 10:00:00+07:00    ISL001  482.6430  547.806455  519.840215\n",
       "...                             ...       ...         ...         ...\n",
       "2023-06-29 14:00:00+07:00    ISL042  341.7507  661.496136  676.362402\n",
       "2023-06-29 14:30:00+07:00    ISL042  807.5103  799.864254  525.121323\n",
       "2023-06-29 15:00:00+07:00    ISL042  620.6790  702.650892  714.141976\n",
       "2023-06-29 15:30:00+07:00    ISL042  587.0647  622.343362  619.238278\n",
       "2023-06-29 16:00:00+07:00    ISL042  243.3112  437.576804  410.244368\n",
       "\n",
       "[3730 rows x 4 columns]"
      ]
     },
     "execution_count": 19,
     "metadata": {},
     "output_type": "execute_result"
    }
   ],
   "source": [
    "compare['poly'] = y_test.Ihat\n",
    "compare"
   ]
  },
  {
   "cell_type": "markdown",
   "id": "26812ec0",
   "metadata": {},
   "source": [
    "# Tree-base model"
   ]
  },
  {
   "cell_type": "code",
   "execution_count": 20,
   "id": "4177c74d",
   "metadata": {},
   "outputs": [],
   "source": [
    "from sklearn.metrics import mean_absolute_error, mean_squared_error\n",
    "from xgboost import XGBRegressor\n",
    "from sklearn.ensemble import RandomForestRegressor\n",
    "from sklearn.model_selection import KFold, cross_val_score, train_test_split, GridSearchCV, cross_validate"
   ]
  },
  {
   "cell_type": "code",
   "execution_count": 21,
   "id": "60fb18ea",
   "metadata": {},
   "outputs": [],
   "source": [
    "X, y = df.drop(columns=['I']), df[['CI0_cm','CI1_ov','site_name','I','k']] \n",
    "\n",
    "X_train, X_test = train_test_splits(X, test_size=0.5, random_state=42, split_by_k = True)\n",
    "y_train, y_test = train_test_splits(y, test_size=0.5, random_state=42, split_by_k = True)\n",
    "\n",
    "compar = y_test.copy()\n",
    "y_train, y_test = y_train.I, y_test.I\n",
    "\n",
    "X_train = X_train[['CI0_cm','CI1_cm','CI0_ov','CI1_ov','Iclr','HR']]\n",
    "X_test = X_test[['CI0_cm','CI1_cm','CI0_ov','CI1_ov','Iclr','HR']]"
   ]
  },
  {
   "cell_type": "code",
   "execution_count": 22,
   "id": "b196354e",
   "metadata": {},
   "outputs": [],
   "source": [
    "model1 = XGBRegressor()\n",
    "model2 = RandomForestRegressor()"
   ]
  },
  {
   "cell_type": "markdown",
   "id": "227cf8b0",
   "metadata": {},
   "source": [
    "## Grid search XGBoost"
   ]
  },
  {
   "cell_type": "code",
   "execution_count": 23,
   "id": "1b6e67b3",
   "metadata": {},
   "outputs": [
    {
     "name": "stdout",
     "output_type": "stream",
     "text": [
      "Fitting 5 folds for each of 96 candidates, totalling 480 fits\n"
     ]
    }
   ],
   "source": [
    "param_grid = {\n",
    "    'n_estimators':[100],\n",
    "    'max_depth':[6,8,10],\n",
    "    'min_child_weight':[5,7,9,11],\n",
    "    'colsample_bytree':[0.3,0.4,0.6,0.8],\n",
    "    'subsample':[0.8,1]}\n",
    "\n",
    "gcv1 = GridSearchCV(model1, param_grid, cv=5,scoring='neg_mean_absolute_error',verbose=2,n_jobs=-1)\n",
    "best_model1 = gcv1.fit(X_train,y_train)"
   ]
  },
  {
   "cell_type": "code",
   "execution_count": 24,
   "id": "92b7726f",
   "metadata": {},
   "outputs": [
    {
     "name": "stdout",
     "output_type": "stream",
     "text": [
      "Fitting 5 folds for each of 192 candidates, totalling 960 fits\n"
     ]
    }
   ],
   "source": [
    "n_estimators = [100]\n",
    "max_depth = [10,20,30,40]\n",
    "max_features = [6,9,12]\n",
    "min_samples_split = [4,8,16,32]\n",
    "min_samples_leaf =  [4,8,16,32]\n",
    "bootstrap = [True]\n",
    "\n",
    "\n",
    "param_grid = {'n_estimators': n_estimators,\n",
    "               'max_features': max_features,\n",
    "               'max_depth': max_depth,\n",
    "               'min_samples_split': min_samples_split,\n",
    "               'min_samples_leaf': min_samples_leaf,\n",
    "               'bootstrap': bootstrap}\n",
    "\n",
    "\n",
    "gcv2 = GridSearchCV(estimator = model2, param_grid = param_grid, \n",
    "                          cv = 5, n_jobs = -1, verbose = 2,scoring='neg_mean_absolute_error',return_train_score=True)\n",
    "\n",
    "best_model2 = gcv2.fit(X_train, y_train)"
   ]
  },
  {
   "cell_type": "code",
   "execution_count": 25,
   "id": "43355666",
   "metadata": {},
   "outputs": [
    {
     "data": {
      "text/plain": [
       "{'colsample_bytree': 0.8,\n",
       " 'max_depth': 6,\n",
       " 'min_child_weight': 9,\n",
       " 'n_estimators': 100,\n",
       " 'subsample': 1}"
      ]
     },
     "execution_count": 25,
     "metadata": {},
     "output_type": "execute_result"
    }
   ],
   "source": [
    "data = pd.DataFrame(best_model1.cv_results_)\n",
    "data.to_csv('gcv1.csv')\n",
    "best_model1.best_params_"
   ]
  },
  {
   "cell_type": "code",
   "execution_count": 26,
   "id": "ead5688d",
   "metadata": {},
   "outputs": [
    {
     "data": {
      "text/plain": [
       "{'bootstrap': True,\n",
       " 'max_depth': 10,\n",
       " 'max_features': 6,\n",
       " 'min_samples_leaf': 4,\n",
       " 'min_samples_split': 4,\n",
       " 'n_estimators': 100}"
      ]
     },
     "execution_count": 26,
     "metadata": {},
     "output_type": "execute_result"
    }
   ],
   "source": [
    "data = pd.DataFrame(best_model2.cv_results_)\n",
    "data.to_csv('gcv2.csv')\n",
    "best_model2.best_params_"
   ]
  },
  {
   "cell_type": "markdown",
   "id": "2c0edfea",
   "metadata": {},
   "source": [
    "## Model retraining"
   ]
  },
  {
   "cell_type": "code",
   "execution_count": 27,
   "id": "146f3370",
   "metadata": {},
   "outputs": [
    {
     "data": {
      "text/html": [
       "<style>#sk-container-id-1 {color: black;}#sk-container-id-1 pre{padding: 0;}#sk-container-id-1 div.sk-toggleable {background-color: white;}#sk-container-id-1 label.sk-toggleable__label {cursor: pointer;display: block;width: 100%;margin-bottom: 0;padding: 0.3em;box-sizing: border-box;text-align: center;}#sk-container-id-1 label.sk-toggleable__label-arrow:before {content: \"▸\";float: left;margin-right: 0.25em;color: #696969;}#sk-container-id-1 label.sk-toggleable__label-arrow:hover:before {color: black;}#sk-container-id-1 div.sk-estimator:hover label.sk-toggleable__label-arrow:before {color: black;}#sk-container-id-1 div.sk-toggleable__content {max-height: 0;max-width: 0;overflow: hidden;text-align: left;background-color: #f0f8ff;}#sk-container-id-1 div.sk-toggleable__content pre {margin: 0.2em;color: black;border-radius: 0.25em;background-color: #f0f8ff;}#sk-container-id-1 input.sk-toggleable__control:checked~div.sk-toggleable__content {max-height: 200px;max-width: 100%;overflow: auto;}#sk-container-id-1 input.sk-toggleable__control:checked~label.sk-toggleable__label-arrow:before {content: \"▾\";}#sk-container-id-1 div.sk-estimator input.sk-toggleable__control:checked~label.sk-toggleable__label {background-color: #d4ebff;}#sk-container-id-1 div.sk-label input.sk-toggleable__control:checked~label.sk-toggleable__label {background-color: #d4ebff;}#sk-container-id-1 input.sk-hidden--visually {border: 0;clip: rect(1px 1px 1px 1px);clip: rect(1px, 1px, 1px, 1px);height: 1px;margin: -1px;overflow: hidden;padding: 0;position: absolute;width: 1px;}#sk-container-id-1 div.sk-estimator {font-family: monospace;background-color: #f0f8ff;border: 1px dotted black;border-radius: 0.25em;box-sizing: border-box;margin-bottom: 0.5em;}#sk-container-id-1 div.sk-estimator:hover {background-color: #d4ebff;}#sk-container-id-1 div.sk-parallel-item::after {content: \"\";width: 100%;border-bottom: 1px solid gray;flex-grow: 1;}#sk-container-id-1 div.sk-label:hover label.sk-toggleable__label {background-color: #d4ebff;}#sk-container-id-1 div.sk-serial::before {content: \"\";position: absolute;border-left: 1px solid gray;box-sizing: border-box;top: 0;bottom: 0;left: 50%;z-index: 0;}#sk-container-id-1 div.sk-serial {display: flex;flex-direction: column;align-items: center;background-color: white;padding-right: 0.2em;padding-left: 0.2em;position: relative;}#sk-container-id-1 div.sk-item {position: relative;z-index: 1;}#sk-container-id-1 div.sk-parallel {display: flex;align-items: stretch;justify-content: center;background-color: white;position: relative;}#sk-container-id-1 div.sk-item::before, #sk-container-id-1 div.sk-parallel-item::before {content: \"\";position: absolute;border-left: 1px solid gray;box-sizing: border-box;top: 0;bottom: 0;left: 50%;z-index: -1;}#sk-container-id-1 div.sk-parallel-item {display: flex;flex-direction: column;z-index: 1;position: relative;background-color: white;}#sk-container-id-1 div.sk-parallel-item:first-child::after {align-self: flex-end;width: 50%;}#sk-container-id-1 div.sk-parallel-item:last-child::after {align-self: flex-start;width: 50%;}#sk-container-id-1 div.sk-parallel-item:only-child::after {width: 0;}#sk-container-id-1 div.sk-dashed-wrapped {border: 1px dashed gray;margin: 0 0.4em 0.5em 0.4em;box-sizing: border-box;padding-bottom: 0.4em;background-color: white;}#sk-container-id-1 div.sk-label label {font-family: monospace;font-weight: bold;display: inline-block;line-height: 1.2em;}#sk-container-id-1 div.sk-label-container {text-align: center;}#sk-container-id-1 div.sk-container {/* jupyter's `normalize.less` sets `[hidden] { display: none; }` but bootstrap.min.css set `[hidden] { display: none !important; }` so we also need the `!important` here to be able to override the default hidden behavior on the sphinx rendered scikit-learn.org. See: https://github.com/scikit-learn/scikit-learn/issues/21755 */display: inline-block !important;position: relative;}#sk-container-id-1 div.sk-text-repr-fallback {display: none;}</style><div id=\"sk-container-id-1\" class=\"sk-top-container\"><div class=\"sk-text-repr-fallback\"><pre>XGBRegressor(base_score=None, booster=None, callbacks=None,\n",
       "             colsample_bylevel=None, colsample_bynode=None,\n",
       "             colsample_bytree=0.8, early_stopping_rounds=None,\n",
       "             enable_categorical=False, eval_metric=None, feature_types=None,\n",
       "             gamma=None, gpu_id=None, grow_policy=None, importance_type=None,\n",
       "             interaction_constraints=None, learning_rate=None, max_bin=None,\n",
       "             max_cat_threshold=None, max_cat_to_onehot=None,\n",
       "             max_delta_step=None, max_depth=6, max_leaves=None,\n",
       "             min_child_weight=9, missing=nan, monotone_constraints=None,\n",
       "             n_estimators=100, n_jobs=None, num_parallel_tree=None,\n",
       "             predictor=None, random_state=None, ...)</pre><b>In a Jupyter environment, please rerun this cell to show the HTML representation or trust the notebook. <br />On GitHub, the HTML representation is unable to render, please try loading this page with nbviewer.org.</b></div><div class=\"sk-container\" hidden><div class=\"sk-item\"><div class=\"sk-estimator sk-toggleable\"><input class=\"sk-toggleable__control sk-hidden--visually\" id=\"sk-estimator-id-1\" type=\"checkbox\" checked><label for=\"sk-estimator-id-1\" class=\"sk-toggleable__label sk-toggleable__label-arrow\">XGBRegressor</label><div class=\"sk-toggleable__content\"><pre>XGBRegressor(base_score=None, booster=None, callbacks=None,\n",
       "             colsample_bylevel=None, colsample_bynode=None,\n",
       "             colsample_bytree=0.8, early_stopping_rounds=None,\n",
       "             enable_categorical=False, eval_metric=None, feature_types=None,\n",
       "             gamma=None, gpu_id=None, grow_policy=None, importance_type=None,\n",
       "             interaction_constraints=None, learning_rate=None, max_bin=None,\n",
       "             max_cat_threshold=None, max_cat_to_onehot=None,\n",
       "             max_delta_step=None, max_depth=6, max_leaves=None,\n",
       "             min_child_weight=9, missing=nan, monotone_constraints=None,\n",
       "             n_estimators=100, n_jobs=None, num_parallel_tree=None,\n",
       "             predictor=None, random_state=None, ...)</pre></div></div></div></div></div>"
      ],
      "text/plain": [
       "XGBRegressor(base_score=None, booster=None, callbacks=None,\n",
       "             colsample_bylevel=None, colsample_bynode=None,\n",
       "             colsample_bytree=0.8, early_stopping_rounds=None,\n",
       "             enable_categorical=False, eval_metric=None, feature_types=None,\n",
       "             gamma=None, gpu_id=None, grow_policy=None, importance_type=None,\n",
       "             interaction_constraints=None, learning_rate=None, max_bin=None,\n",
       "             max_cat_threshold=None, max_cat_to_onehot=None,\n",
       "             max_delta_step=None, max_depth=6, max_leaves=None,\n",
       "             min_child_weight=9, missing=nan, monotone_constraints=None,\n",
       "             n_estimators=100, n_jobs=None, num_parallel_tree=None,\n",
       "             predictor=None, random_state=None, ...)"
      ]
     },
     "execution_count": 27,
     "metadata": {},
     "output_type": "execute_result"
    }
   ],
   "source": [
    "XGB = XGBRegressor(n_estimators=100,max_depth=6,min_child_weight=9,colsample_bytree=0.8,subsample=1)\n",
    "XGB.fit(X_train,y_train)"
   ]
  },
  {
   "cell_type": "code",
   "execution_count": 28,
   "id": "2b1e17bc",
   "metadata": {
    "scrolled": true
   },
   "outputs": [
    {
     "data": {
      "text/html": [
       "<style>#sk-container-id-2 {color: black;}#sk-container-id-2 pre{padding: 0;}#sk-container-id-2 div.sk-toggleable {background-color: white;}#sk-container-id-2 label.sk-toggleable__label {cursor: pointer;display: block;width: 100%;margin-bottom: 0;padding: 0.3em;box-sizing: border-box;text-align: center;}#sk-container-id-2 label.sk-toggleable__label-arrow:before {content: \"▸\";float: left;margin-right: 0.25em;color: #696969;}#sk-container-id-2 label.sk-toggleable__label-arrow:hover:before {color: black;}#sk-container-id-2 div.sk-estimator:hover label.sk-toggleable__label-arrow:before {color: black;}#sk-container-id-2 div.sk-toggleable__content {max-height: 0;max-width: 0;overflow: hidden;text-align: left;background-color: #f0f8ff;}#sk-container-id-2 div.sk-toggleable__content pre {margin: 0.2em;color: black;border-radius: 0.25em;background-color: #f0f8ff;}#sk-container-id-2 input.sk-toggleable__control:checked~div.sk-toggleable__content {max-height: 200px;max-width: 100%;overflow: auto;}#sk-container-id-2 input.sk-toggleable__control:checked~label.sk-toggleable__label-arrow:before {content: \"▾\";}#sk-container-id-2 div.sk-estimator input.sk-toggleable__control:checked~label.sk-toggleable__label {background-color: #d4ebff;}#sk-container-id-2 div.sk-label input.sk-toggleable__control:checked~label.sk-toggleable__label {background-color: #d4ebff;}#sk-container-id-2 input.sk-hidden--visually {border: 0;clip: rect(1px 1px 1px 1px);clip: rect(1px, 1px, 1px, 1px);height: 1px;margin: -1px;overflow: hidden;padding: 0;position: absolute;width: 1px;}#sk-container-id-2 div.sk-estimator {font-family: monospace;background-color: #f0f8ff;border: 1px dotted black;border-radius: 0.25em;box-sizing: border-box;margin-bottom: 0.5em;}#sk-container-id-2 div.sk-estimator:hover {background-color: #d4ebff;}#sk-container-id-2 div.sk-parallel-item::after {content: \"\";width: 100%;border-bottom: 1px solid gray;flex-grow: 1;}#sk-container-id-2 div.sk-label:hover label.sk-toggleable__label {background-color: #d4ebff;}#sk-container-id-2 div.sk-serial::before {content: \"\";position: absolute;border-left: 1px solid gray;box-sizing: border-box;top: 0;bottom: 0;left: 50%;z-index: 0;}#sk-container-id-2 div.sk-serial {display: flex;flex-direction: column;align-items: center;background-color: white;padding-right: 0.2em;padding-left: 0.2em;position: relative;}#sk-container-id-2 div.sk-item {position: relative;z-index: 1;}#sk-container-id-2 div.sk-parallel {display: flex;align-items: stretch;justify-content: center;background-color: white;position: relative;}#sk-container-id-2 div.sk-item::before, #sk-container-id-2 div.sk-parallel-item::before {content: \"\";position: absolute;border-left: 1px solid gray;box-sizing: border-box;top: 0;bottom: 0;left: 50%;z-index: -1;}#sk-container-id-2 div.sk-parallel-item {display: flex;flex-direction: column;z-index: 1;position: relative;background-color: white;}#sk-container-id-2 div.sk-parallel-item:first-child::after {align-self: flex-end;width: 50%;}#sk-container-id-2 div.sk-parallel-item:last-child::after {align-self: flex-start;width: 50%;}#sk-container-id-2 div.sk-parallel-item:only-child::after {width: 0;}#sk-container-id-2 div.sk-dashed-wrapped {border: 1px dashed gray;margin: 0 0.4em 0.5em 0.4em;box-sizing: border-box;padding-bottom: 0.4em;background-color: white;}#sk-container-id-2 div.sk-label label {font-family: monospace;font-weight: bold;display: inline-block;line-height: 1.2em;}#sk-container-id-2 div.sk-label-container {text-align: center;}#sk-container-id-2 div.sk-container {/* jupyter's `normalize.less` sets `[hidden] { display: none; }` but bootstrap.min.css set `[hidden] { display: none !important; }` so we also need the `!important` here to be able to override the default hidden behavior on the sphinx rendered scikit-learn.org. See: https://github.com/scikit-learn/scikit-learn/issues/21755 */display: inline-block !important;position: relative;}#sk-container-id-2 div.sk-text-repr-fallback {display: none;}</style><div id=\"sk-container-id-2\" class=\"sk-top-container\"><div class=\"sk-text-repr-fallback\"><pre>RandomForestRegressor(max_depth=40, max_features=6, min_samples_leaf=4,\n",
       "                      min_samples_split=4)</pre><b>In a Jupyter environment, please rerun this cell to show the HTML representation or trust the notebook. <br />On GitHub, the HTML representation is unable to render, please try loading this page with nbviewer.org.</b></div><div class=\"sk-container\" hidden><div class=\"sk-item\"><div class=\"sk-estimator sk-toggleable\"><input class=\"sk-toggleable__control sk-hidden--visually\" id=\"sk-estimator-id-2\" type=\"checkbox\" checked><label for=\"sk-estimator-id-2\" class=\"sk-toggleable__label sk-toggleable__label-arrow\">RandomForestRegressor</label><div class=\"sk-toggleable__content\"><pre>RandomForestRegressor(max_depth=40, max_features=6, min_samples_leaf=4,\n",
       "                      min_samples_split=4)</pre></div></div></div></div></div>"
      ],
      "text/plain": [
       "RandomForestRegressor(max_depth=40, max_features=6, min_samples_leaf=4,\n",
       "                      min_samples_split=4)"
      ]
     },
     "execution_count": 28,
     "metadata": {},
     "output_type": "execute_result"
    }
   ],
   "source": [
    "RF = RandomForestRegressor(n_estimators=100,max_depth=40,max_features=6,min_samples_leaf=4,min_samples_split=4,bootstrap=True)\n",
    "RF.fit(X_train,y_train)"
   ]
  },
  {
   "cell_type": "code",
   "execution_count": 29,
   "id": "16d7a2e1",
   "metadata": {
    "scrolled": true
   },
   "outputs": [
    {
     "data": {
      "text/html": [
       "<div>\n",
       "<style scoped>\n",
       "    .dataframe tbody tr th:only-of-type {\n",
       "        vertical-align: middle;\n",
       "    }\n",
       "\n",
       "    .dataframe tbody tr th {\n",
       "        vertical-align: top;\n",
       "    }\n",
       "\n",
       "    .dataframe thead th {\n",
       "        text-align: right;\n",
       "    }\n",
       "</style>\n",
       "<table border=\"1\" class=\"dataframe\">\n",
       "  <thead>\n",
       "    <tr style=\"text-align: right;\">\n",
       "      <th></th>\n",
       "      <th>site_name</th>\n",
       "      <th>I</th>\n",
       "      <th>OLS</th>\n",
       "      <th>poly</th>\n",
       "      <th>yXGB</th>\n",
       "      <th>yRF</th>\n",
       "    </tr>\n",
       "    <tr>\n",
       "      <th>Datetime</th>\n",
       "      <th></th>\n",
       "      <th></th>\n",
       "      <th></th>\n",
       "      <th></th>\n",
       "      <th></th>\n",
       "      <th></th>\n",
       "    </tr>\n",
       "  </thead>\n",
       "  <tbody>\n",
       "    <tr>\n",
       "      <th>2023-02-07 08:00:00+07:00</th>\n",
       "      <td>ISL001</td>\n",
       "      <td>110.3633</td>\n",
       "      <td>172.252600</td>\n",
       "      <td>138.025779</td>\n",
       "      <td>210.439102</td>\n",
       "      <td>176.293929</td>\n",
       "    </tr>\n",
       "    <tr>\n",
       "      <th>2023-02-07 08:30:00+07:00</th>\n",
       "      <td>ISL001</td>\n",
       "      <td>208.3990</td>\n",
       "      <td>313.599855</td>\n",
       "      <td>260.070233</td>\n",
       "      <td>255.959946</td>\n",
       "      <td>281.717812</td>\n",
       "    </tr>\n",
       "    <tr>\n",
       "      <th>2023-02-07 09:00:00+07:00</th>\n",
       "      <td>ISL001</td>\n",
       "      <td>437.6490</td>\n",
       "      <td>400.084434</td>\n",
       "      <td>353.791449</td>\n",
       "      <td>374.977234</td>\n",
       "      <td>381.972205</td>\n",
       "    </tr>\n",
       "    <tr>\n",
       "      <th>2023-02-07 09:30:00+07:00</th>\n",
       "      <td>ISL001</td>\n",
       "      <td>496.7265</td>\n",
       "      <td>445.340109</td>\n",
       "      <td>416.610174</td>\n",
       "      <td>447.586487</td>\n",
       "      <td>432.071115</td>\n",
       "    </tr>\n",
       "    <tr>\n",
       "      <th>2023-02-07 10:00:00+07:00</th>\n",
       "      <td>ISL001</td>\n",
       "      <td>482.6430</td>\n",
       "      <td>547.806455</td>\n",
       "      <td>519.840215</td>\n",
       "      <td>549.731262</td>\n",
       "      <td>506.853844</td>\n",
       "    </tr>\n",
       "    <tr>\n",
       "      <th>...</th>\n",
       "      <td>...</td>\n",
       "      <td>...</td>\n",
       "      <td>...</td>\n",
       "      <td>...</td>\n",
       "      <td>...</td>\n",
       "      <td>...</td>\n",
       "    </tr>\n",
       "    <tr>\n",
       "      <th>2023-06-29 14:00:00+07:00</th>\n",
       "      <td>ISL042</td>\n",
       "      <td>341.7507</td>\n",
       "      <td>661.496136</td>\n",
       "      <td>676.362402</td>\n",
       "      <td>624.427795</td>\n",
       "      <td>631.765323</td>\n",
       "    </tr>\n",
       "    <tr>\n",
       "      <th>2023-06-29 14:30:00+07:00</th>\n",
       "      <td>ISL042</td>\n",
       "      <td>807.5103</td>\n",
       "      <td>799.864254</td>\n",
       "      <td>525.121323</td>\n",
       "      <td>655.842041</td>\n",
       "      <td>716.637547</td>\n",
       "    </tr>\n",
       "    <tr>\n",
       "      <th>2023-06-29 15:00:00+07:00</th>\n",
       "      <td>ISL042</td>\n",
       "      <td>620.6790</td>\n",
       "      <td>702.650892</td>\n",
       "      <td>714.141976</td>\n",
       "      <td>727.147827</td>\n",
       "      <td>732.558014</td>\n",
       "    </tr>\n",
       "    <tr>\n",
       "      <th>2023-06-29 15:30:00+07:00</th>\n",
       "      <td>ISL042</td>\n",
       "      <td>587.0647</td>\n",
       "      <td>622.343362</td>\n",
       "      <td>619.238278</td>\n",
       "      <td>606.290222</td>\n",
       "      <td>596.626763</td>\n",
       "    </tr>\n",
       "    <tr>\n",
       "      <th>2023-06-29 16:00:00+07:00</th>\n",
       "      <td>ISL042</td>\n",
       "      <td>243.3112</td>\n",
       "      <td>437.576804</td>\n",
       "      <td>410.244368</td>\n",
       "      <td>464.586060</td>\n",
       "      <td>421.237247</td>\n",
       "    </tr>\n",
       "  </tbody>\n",
       "</table>\n",
       "<p>3730 rows × 6 columns</p>\n",
       "</div>"
      ],
      "text/plain": [
       "                          site_name         I         OLS        poly  \\\n",
       "Datetime                                                                \n",
       "2023-02-07 08:00:00+07:00    ISL001  110.3633  172.252600  138.025779   \n",
       "2023-02-07 08:30:00+07:00    ISL001  208.3990  313.599855  260.070233   \n",
       "2023-02-07 09:00:00+07:00    ISL001  437.6490  400.084434  353.791449   \n",
       "2023-02-07 09:30:00+07:00    ISL001  496.7265  445.340109  416.610174   \n",
       "2023-02-07 10:00:00+07:00    ISL001  482.6430  547.806455  519.840215   \n",
       "...                             ...       ...         ...         ...   \n",
       "2023-06-29 14:00:00+07:00    ISL042  341.7507  661.496136  676.362402   \n",
       "2023-06-29 14:30:00+07:00    ISL042  807.5103  799.864254  525.121323   \n",
       "2023-06-29 15:00:00+07:00    ISL042  620.6790  702.650892  714.141976   \n",
       "2023-06-29 15:30:00+07:00    ISL042  587.0647  622.343362  619.238278   \n",
       "2023-06-29 16:00:00+07:00    ISL042  243.3112  437.576804  410.244368   \n",
       "\n",
       "                                 yXGB         yRF  \n",
       "Datetime                                           \n",
       "2023-02-07 08:00:00+07:00  210.439102  176.293929  \n",
       "2023-02-07 08:30:00+07:00  255.959946  281.717812  \n",
       "2023-02-07 09:00:00+07:00  374.977234  381.972205  \n",
       "2023-02-07 09:30:00+07:00  447.586487  432.071115  \n",
       "2023-02-07 10:00:00+07:00  549.731262  506.853844  \n",
       "...                               ...         ...  \n",
       "2023-06-29 14:00:00+07:00  624.427795  631.765323  \n",
       "2023-06-29 14:30:00+07:00  655.842041  716.637547  \n",
       "2023-06-29 15:00:00+07:00  727.147827  732.558014  \n",
       "2023-06-29 15:30:00+07:00  606.290222  596.626763  \n",
       "2023-06-29 16:00:00+07:00  464.586060  421.237247  \n",
       "\n",
       "[3730 rows x 6 columns]"
      ]
     },
     "execution_count": 29,
     "metadata": {},
     "output_type": "execute_result"
    }
   ],
   "source": [
    "compare['yXGB']=XGB.predict(X_test)\n",
    "compare['yRF']=RF.predict(X_test)\n",
    "compare"
   ]
  },
  {
   "cell_type": "code",
   "execution_count": 50,
   "id": "9e94ace5",
   "metadata": {},
   "outputs": [],
   "source": [
    "import pickle\n",
    "pickle.dump(RF, open('RF.pkl','wb'))"
   ]
  },
  {
   "cell_type": "code",
   "execution_count": 31,
   "id": "a1f4bf7c",
   "metadata": {},
   "outputs": [
    {
     "name": "stdout",
     "output_type": "stream",
     "text": [
      "MAE of XGBoosting is 93.74026105215854\n",
      "MAE of RF is 89.35060761574664\n"
     ]
    }
   ],
   "source": [
    "print('MAE of XGBoosting is {}'.format(mean_absolute_error(compare[['I']],compare[['yXGB']])))\n",
    "print('MAE of RF is {}'.format(mean_absolute_error(compare[['I']],compare[['yRF']])))"
   ]
  },
  {
   "cell_type": "markdown",
   "id": "5504a476",
   "metadata": {},
   "source": [
    "# CNN model"
   ]
  },
  {
   "cell_type": "code",
   "execution_count": 32,
   "id": "dc20be75",
   "metadata": {
    "scrolled": true
   },
   "outputs": [
    {
     "name": "stdout",
     "output_type": "stream",
     "text": [
      "Model: \"CNN\"\n",
      "__________________________________________________________________________________________________\n",
      " Layer (type)                Output Shape                 Param #   Connected to                  \n",
      "==================================================================================================\n",
      " input_1 (InputLayer)        [(None, 16, 16, 2)]          0         []                            \n",
      "                                                                                                  \n",
      " conv2d (Conv2D)             (None, 16, 16, 16)           816       ['input_1[0][0]']             \n",
      "                                                                                                  \n",
      " conv2d_1 (Conv2D)           (None, 16, 16, 16)           6416      ['conv2d[0][0]']              \n",
      "                                                                                                  \n",
      " max_pooling2d (MaxPooling2  (None, 8, 8, 16)             0         ['conv2d_1[0][0]']            \n",
      " D)                                                                                               \n",
      "                                                                                                  \n",
      " conv2d_2 (Conv2D)           (None, 8, 8, 16)             6416      ['max_pooling2d[0][0]']       \n",
      "                                                                                                  \n",
      " conv2d_3 (Conv2D)           (None, 8, 8, 16)             6416      ['conv2d_2[0][0]']            \n",
      "                                                                                                  \n",
      " max_pooling2d_1 (MaxPoolin  (None, 4, 4, 16)             0         ['conv2d_3[0][0]']            \n",
      " g2D)                                                                                             \n",
      "                                                                                                  \n",
      " conv2d_4 (Conv2D)           (None, 4, 4, 16)             6416      ['max_pooling2d_1[0][0]']     \n",
      "                                                                                                  \n",
      " conv2d_5 (Conv2D)           (None, 4, 4, 16)             6416      ['conv2d_4[0][0]']            \n",
      "                                                                                                  \n",
      " input_2 (InputLayer)        [(None, 6)]                  0         []                            \n",
      "                                                                                                  \n",
      " max_pooling2d_2 (MaxPoolin  (None, 2, 2, 16)             0         ['conv2d_5[0][0]']            \n",
      " g2D)                                                                                             \n",
      "                                                                                                  \n",
      " dense (Dense)               (None, 6)                    42        ['input_2[0][0]']             \n",
      "                                                                                                  \n",
      " flatten (Flatten)           (None, 64)                   0         ['max_pooling2d_2[0][0]']     \n",
      "                                                                                                  \n",
      " flatten_1 (Flatten)         (None, 6)                    0         ['dense[0][0]']               \n",
      "                                                                                                  \n",
      " concatenate (Concatenate)   (None, 70)                   0         ['flatten[0][0]',             \n",
      "                                                                     'flatten_1[0][0]']           \n",
      "                                                                                                  \n",
      " dense_1 (Dense)             (None, 64)                   4544      ['concatenate[0][0]']         \n",
      "                                                                                                  \n",
      " dense_2 (Dense)             (None, 16)                   1040      ['dense_1[0][0]']             \n",
      "                                                                                                  \n",
      " dense_3 (Dense)             (None, 1)                    17        ['dense_2[0][0]']             \n",
      "                                                                                                  \n",
      "==================================================================================================\n",
      "Total params: 38539 (150.54 KB)\n",
      "Trainable params: 38539 (150.54 KB)\n",
      "Non-trainable params: 0 (0.00 Byte)\n",
      "__________________________________________________________________________________________________\n"
     ]
    }
   ],
   "source": [
    "# define CNN model\n",
    "input_shape = (16, 16, 2)\n",
    "img_inputs = keras.Input(shape=input_shape)\n",
    "ATT_input = keras.Input(shape=(6))\n",
    "conv1 = layers.Conv2D(16, kernel_size=(5, 5), activation='relu',padding='same')(img_inputs)\n",
    "conv2 = layers.Conv2D(16, kernel_size=(5, 5), activation='relu',padding='same')(conv1)\n",
    "pool1 = layers.MaxPooling2D((2, 2),strides=(2,2))(conv2)\n",
    "conv3 = layers.Conv2D(16, kernel_size=(5, 5), activation='relu',padding='same')(pool1)\n",
    "conv4 = layers.Conv2D(16, kernel_size=(5, 5), activation='relu',padding='same')(conv3)\n",
    "pool2 = layers.MaxPooling2D((2, 2),strides=(2,2))(conv4)\n",
    "conv5 = layers.Conv2D(16, kernel_size=(5, 5), activation='relu',padding='same')(pool2)\n",
    "conv6 = layers.Conv2D(16, kernel_size=(5, 5), activation='relu',padding='same')(conv5)\n",
    "pool3 = layers.MaxPooling2D((2, 2),strides=(2,2))(conv6)\n",
    "flatten_cnn = layers.Flatten()(pool3)\n",
    "dense1 = layers.Dense(6)(ATT_input) # define MLP model\n",
    "flatten_mlp = layers.Flatten()(dense1)\n",
    "merged = layers.concatenate([flatten_cnn, flatten_mlp]) # combine CNN and MLP\n",
    "dense3 = layers.Dense(64, activation='relu')(merged)\n",
    "dense4 = layers.Dense(16, activation='relu')(dense3)\n",
    "outputs = layers.Dense(1)(dense4)\n",
    "CNN = keras.Model(inputs=[img_inputs, ATT_input], outputs=outputs, name=\"CNN\")\n",
    "CNN.summary()"
   ]
  },
  {
   "cell_type": "code",
   "execution_count": 33,
   "id": "eafd78e6",
   "metadata": {},
   "outputs": [],
   "source": [
    "Image = Image_df.copy()\n",
    "Image.set_index('Datetime', inplace = True)\n",
    "Att = ATT.copy()\n",
    "Att.set_index('Datetime', inplace = True)"
   ]
  },
  {
   "cell_type": "code",
   "execution_count": 34,
   "id": "2b13a896",
   "metadata": {},
   "outputs": [],
   "source": [
    "#train test split\n",
    "train_data, test_data = train_test_splits(Image, test_size=0.5, random_state=42, split_by_k = True)\n",
    "train_ATT, test_ATT = train_test_splits(Att, test_size=0.5, random_state=42, split_by_k = True)"
   ]
  },
  {
   "cell_type": "code",
   "execution_count": 35,
   "id": "e41cb11b",
   "metadata": {},
   "outputs": [],
   "source": [
    "#Train CNN model\n",
    "TargetVariable=['I']\n",
    "Predictors=list(Image.columns.drop(['site_name','k','Iclr','I']))\n",
    "\n",
    "X_train = train_data[Predictors].values.reshape(-1,16,16,2)\n",
    "y_train = train_data[TargetVariable].values\n",
    "X_test = test_data[Predictors].values.reshape(-1,16,16,2)\n",
    "y_test = test_data[TargetVariable].values\n",
    "\n",
    "X_train=X_train/255\n",
    "X_test=X_test/255\n",
    "\n",
    "ATT_taget = ['I']\n",
    "ATT_predictors = list(ATT.columns.drop(['I','site_name','k','Datetime']))\n",
    "X_train_ATT = train_ATT[ATT_predictors].values\n",
    "y_train_ATT = train_ATT[ATT_taget].values\n",
    "X_test_ATT = test_ATT[ATT_predictors].values\n",
    "y_test_ATT = test_ATT[ATT_taget].values\n",
    "\n",
    "from sklearn.model_selection import train_test_split\n",
    "#split train and validate set \n",
    "X_train_train, X_valid, y_train_train, y_valid = train_test_split(X_train, y_train, test_size=0.25, shuffle = False) \n",
    "X_train_train_ATT, X_val_ATT, y_train_train_ATT, y_val_ATT = train_test_split(X_train_ATT, y_train_ATT, test_size=0.25, shuffle = False)"
   ]
  },
  {
   "cell_type": "code",
   "execution_count": 36,
   "id": "b7928aa9",
   "metadata": {
    "scrolled": true
   },
   "outputs": [
    {
     "name": "stdout",
     "output_type": "stream",
     "text": [
      "Epoch 1/500\n",
      "91/91 [==============================] - 2s 18ms/step - loss: 221.4973 - val_loss: 135.8427 - lr: 0.0020\n",
      "Epoch 2/500\n",
      "91/91 [==============================] - 2s 18ms/step - loss: 138.9446 - val_loss: 128.7930 - lr: 0.0020\n",
      "Epoch 3/500\n",
      "91/91 [==============================] - 2s 23ms/step - loss: 127.8783 - val_loss: 121.1439 - lr: 0.0020\n",
      "Epoch 4/500\n",
      "91/91 [==============================] - 2s 19ms/step - loss: 116.2833 - val_loss: 106.3064 - lr: 0.0020\n",
      "Epoch 5/500\n",
      "91/91 [==============================] - 1s 15ms/step - loss: 112.0546 - val_loss: 103.9517 - lr: 0.0020\n",
      "Epoch 6/500\n",
      "91/91 [==============================] - 2s 19ms/step - loss: 110.0809 - val_loss: 102.4797 - lr: 0.0020\n",
      "Epoch 7/500\n",
      "91/91 [==============================] - 2s 20ms/step - loss: 110.6402 - val_loss: 102.7070 - lr: 0.0020\n",
      "Epoch 8/500\n",
      "91/91 [==============================] - 2s 20ms/step - loss: 109.9895 - val_loss: 114.5256 - lr: 0.0020\n",
      "Epoch 9/500\n",
      "91/91 [==============================] - 2s 18ms/step - loss: 108.5521 - val_loss: 104.2930 - lr: 0.0020\n",
      "Epoch 10/500\n",
      "91/91 [==============================] - 2s 17ms/step - loss: 106.4757 - val_loss: 102.2295 - lr: 0.0010\n",
      "Epoch 11/500\n",
      "91/91 [==============================] - 2s 19ms/step - loss: 106.6133 - val_loss: 108.9468 - lr: 0.0010\n",
      "Epoch 12/500\n",
      "91/91 [==============================] - 2s 17ms/step - loss: 106.4567 - val_loss: 105.4012 - lr: 0.0010\n",
      "Epoch 13/500\n",
      "91/91 [==============================] - 1s 16ms/step - loss: 105.7617 - val_loss: 101.3882 - lr: 0.0010\n",
      "Epoch 14/500\n",
      "91/91 [==============================] - 1s 15ms/step - loss: 106.1825 - val_loss: 99.1782 - lr: 0.0010\n",
      "Epoch 15/500\n",
      "91/91 [==============================] - 2s 17ms/step - loss: 104.7869 - val_loss: 99.1459 - lr: 0.0010\n",
      "Epoch 16/500\n",
      "91/91 [==============================] - 1s 16ms/step - loss: 104.4261 - val_loss: 102.5165 - lr: 0.0010\n",
      "Epoch 17/500\n",
      "91/91 [==============================] - 1s 14ms/step - loss: 103.9465 - val_loss: 101.2095 - lr: 0.0010\n",
      "Epoch 18/500\n",
      "91/91 [==============================] - 2s 19ms/step - loss: 104.0706 - val_loss: 98.3165 - lr: 0.0010\n",
      "Epoch 19/500\n",
      "91/91 [==============================] - 2s 20ms/step - loss: 104.1246 - val_loss: 114.3869 - lr: 0.0010\n",
      "Epoch 20/500\n",
      "91/91 [==============================] - 2s 17ms/step - loss: 105.6690 - val_loss: 98.5703 - lr: 0.0010\n",
      "Epoch 21/500\n",
      "91/91 [==============================] - 1s 15ms/step - loss: 103.7708 - val_loss: 109.9468 - lr: 0.0010\n",
      "Epoch 22/500\n",
      "91/91 [==============================] - 1s 16ms/step - loss: 103.8064 - val_loss: 98.0767 - lr: 0.0010\n",
      "Epoch 23/500\n",
      "91/91 [==============================] - 2s 19ms/step - loss: 104.3789 - val_loss: 100.2236 - lr: 0.0010\n",
      "Epoch 24/500\n",
      "91/91 [==============================] - 2s 19ms/step - loss: 105.4925 - val_loss: 97.6344 - lr: 0.0010\n",
      "Epoch 25/500\n",
      "91/91 [==============================] - 2s 20ms/step - loss: 102.7950 - val_loss: 99.4106 - lr: 0.0010\n",
      "Epoch 26/500\n",
      "91/91 [==============================] - 2s 18ms/step - loss: 103.2116 - val_loss: 109.8002 - lr: 0.0010\n",
      "Epoch 27/500\n",
      "91/91 [==============================] - 2s 20ms/step - loss: 104.3622 - val_loss: 99.9706 - lr: 0.0010\n",
      "Epoch 28/500\n",
      "91/91 [==============================] - 2s 23ms/step - loss: 103.1556 - val_loss: 99.3214 - lr: 0.0010\n",
      "Epoch 29/500\n",
      "91/91 [==============================] - 2s 19ms/step - loss: 102.9214 - val_loss: 102.1330 - lr: 0.0010\n",
      "Epoch 30/500\n",
      "91/91 [==============================] - 1s 16ms/step - loss: 102.2729 - val_loss: 99.2533 - lr: 0.0010\n",
      "Epoch 31/500\n",
      "91/91 [==============================] - 2s 17ms/step - loss: 103.3795 - val_loss: 100.0288 - lr: 0.0010\n",
      "Epoch 32/500\n",
      "91/91 [==============================] - 2s 18ms/step - loss: 102.9328 - val_loss: 99.2103 - lr: 0.0010\n",
      "Epoch 33/500\n",
      "91/91 [==============================] - 2s 19ms/step - loss: 102.8214 - val_loss: 102.1871 - lr: 0.0010\n",
      "Epoch 34/500\n",
      "91/91 [==============================] - 1s 15ms/step - loss: 102.6926 - val_loss: 99.6466 - lr: 0.0010\n",
      "Epoch 35/500\n",
      "91/91 [==============================] - 2s 17ms/step - loss: 102.9046 - val_loss: 98.1660 - lr: 0.0010\n",
      "Epoch 36/500\n",
      "91/91 [==============================] - 2s 18ms/step - loss: 101.5326 - val_loss: 102.6039 - lr: 0.0010\n",
      "Epoch 37/500\n",
      "91/91 [==============================] - 2s 17ms/step - loss: 104.7807 - val_loss: 102.0945 - lr: 0.0010\n",
      "Epoch 38/500\n",
      "91/91 [==============================] - 2s 17ms/step - loss: 103.6682 - val_loss: 101.6652 - lr: 0.0010\n",
      "Epoch 39/500\n",
      "91/91 [==============================] - 1s 15ms/step - loss: 103.7442 - val_loss: 97.4198 - lr: 0.0010\n",
      "Epoch 40/500\n",
      "91/91 [==============================] - 1s 16ms/step - loss: 101.2596 - val_loss: 96.1615 - lr: 0.0010\n",
      "Epoch 41/500\n",
      "91/91 [==============================] - 2s 18ms/step - loss: 102.5733 - val_loss: 99.5208 - lr: 0.0010\n",
      "Epoch 42/500\n",
      "91/91 [==============================] - 2s 17ms/step - loss: 102.2662 - val_loss: 100.4671 - lr: 0.0010\n",
      "Epoch 43/500\n",
      "91/91 [==============================] - 2s 19ms/step - loss: 103.1234 - val_loss: 97.1905 - lr: 0.0010\n",
      "Epoch 44/500\n",
      "91/91 [==============================] - 2s 20ms/step - loss: 101.0262 - val_loss: 96.4199 - lr: 0.0010\n",
      "Epoch 45/500\n",
      "91/91 [==============================] - 2s 19ms/step - loss: 101.5229 - val_loss: 101.7394 - lr: 0.0010\n",
      "Epoch 46/500\n",
      "91/91 [==============================] - 2s 17ms/step - loss: 102.5716 - val_loss: 100.5870 - lr: 0.0010\n",
      "Epoch 47/500\n",
      "91/91 [==============================] - 1s 16ms/step - loss: 101.4009 - val_loss: 101.2935 - lr: 0.0010\n",
      "Epoch 48/500\n",
      "91/91 [==============================] - 2s 21ms/step - loss: 101.4966 - val_loss: 99.3893 - lr: 0.0010\n",
      "Epoch 49/500\n",
      "91/91 [==============================] - 2s 19ms/step - loss: 102.5493 - val_loss: 98.8812 - lr: 0.0010\n",
      "Epoch 50/500\n",
      "91/91 [==============================] - 1s 16ms/step - loss: 102.2999 - val_loss: 96.9440 - lr: 0.0010\n",
      "Epoch 51/500\n",
      "91/91 [==============================] - 2s 17ms/step - loss: 102.1068 - val_loss: 98.5194 - lr: 0.0010\n",
      "Epoch 52/500\n",
      "91/91 [==============================] - 2s 19ms/step - loss: 100.8564 - val_loss: 97.0185 - lr: 0.0010\n",
      "Epoch 53/500\n",
      "91/91 [==============================] - 2s 17ms/step - loss: 100.6552 - val_loss: 99.4081 - lr: 0.0010\n",
      "Epoch 54/500\n",
      "91/91 [==============================] - 1s 15ms/step - loss: 100.8581 - val_loss: 96.6368 - lr: 0.0010\n",
      "Epoch 55/500\n",
      "91/91 [==============================] - 1s 14ms/step - loss: 101.4188 - val_loss: 99.3561 - lr: 0.0010\n",
      "Epoch 56/500\n",
      "91/91 [==============================] - 1s 15ms/step - loss: 101.0515 - val_loss: 96.0382 - lr: 0.0010\n",
      "Epoch 57/500\n",
      "91/91 [==============================] - 1s 16ms/step - loss: 100.3562 - val_loss: 96.1376 - lr: 0.0010\n",
      "Epoch 58/500\n",
      "91/91 [==============================] - 2s 18ms/step - loss: 101.5763 - val_loss: 102.9349 - lr: 0.0010\n",
      "Epoch 59/500\n",
      "91/91 [==============================] - 2s 20ms/step - loss: 100.3366 - val_loss: 108.6648 - lr: 0.0010\n",
      "Epoch 60/500\n",
      "91/91 [==============================] - 2s 18ms/step - loss: 100.8256 - val_loss: 102.7162 - lr: 0.0010\n",
      "Epoch 61/500\n",
      "91/91 [==============================] - 2s 21ms/step - loss: 99.7945 - val_loss: 96.6094 - lr: 0.0010\n",
      "Epoch 62/500\n",
      "91/91 [==============================] - 2s 19ms/step - loss: 100.0199 - val_loss: 98.8959 - lr: 0.0010\n",
      "Epoch 63/500\n",
      "91/91 [==============================] - 2s 17ms/step - loss: 100.1879 - val_loss: 103.0884 - lr: 0.0010\n",
      "Epoch 64/500\n",
      "91/91 [==============================] - 1s 16ms/step - loss: 101.1980 - val_loss: 97.4199 - lr: 0.0010\n",
      "Epoch 65/500\n",
      "91/91 [==============================] - 2s 18ms/step - loss: 100.4479 - val_loss: 96.7114 - lr: 0.0010\n",
      "Epoch 66/500\n",
      "91/91 [==============================] - 2s 18ms/step - loss: 100.3762 - val_loss: 96.0643 - lr: 0.0010\n",
      "Epoch 67/500\n",
      "91/91 [==============================] - 2s 19ms/step - loss: 100.3605 - val_loss: 95.5273 - lr: 0.0010\n",
      "Epoch 68/500\n",
      "91/91 [==============================] - 2s 22ms/step - loss: 99.6043 - val_loss: 96.6615 - lr: 0.0010\n",
      "Epoch 69/500\n",
      "91/91 [==============================] - 2s 19ms/step - loss: 99.3370 - val_loss: 99.2696 - lr: 0.0010\n",
      "Epoch 70/500\n",
      "91/91 [==============================] - 1s 16ms/step - loss: 100.2850 - val_loss: 101.7457 - lr: 0.0010\n"
     ]
    },
    {
     "name": "stdout",
     "output_type": "stream",
     "text": [
      "Epoch 71/500\n",
      "91/91 [==============================] - 1s 15ms/step - loss: 99.4933 - val_loss: 100.0882 - lr: 0.0010\n",
      "Epoch 72/500\n",
      "91/91 [==============================] - 1s 15ms/step - loss: 100.8641 - val_loss: 96.5910 - lr: 0.0010\n",
      "Epoch 73/500\n",
      "91/91 [==============================] - 1s 14ms/step - loss: 99.7747 - val_loss: 104.3596 - lr: 0.0010\n",
      "Epoch 74/500\n",
      "91/91 [==============================] - 1s 16ms/step - loss: 101.3762 - val_loss: 101.5494 - lr: 0.0010\n",
      "Epoch 75/500\n",
      "91/91 [==============================] - 1s 16ms/step - loss: 100.7982 - val_loss: 96.7448 - lr: 0.0010\n",
      "Epoch 76/500\n",
      "91/91 [==============================] - 1s 16ms/step - loss: 99.0657 - val_loss: 96.8504 - lr: 0.0010\n",
      "Epoch 77/500\n",
      "91/91 [==============================] - 2s 18ms/step - loss: 98.9268 - val_loss: 95.0223 - lr: 0.0010\n",
      "Epoch 78/500\n",
      "91/91 [==============================] - 2s 19ms/step - loss: 99.2345 - val_loss: 97.5468 - lr: 0.0010\n",
      "Epoch 79/500\n",
      "91/91 [==============================] - 2s 17ms/step - loss: 98.8531 - val_loss: 96.1719 - lr: 0.0010\n",
      "Epoch 80/500\n",
      "91/91 [==============================] - 1s 15ms/step - loss: 98.7017 - val_loss: 95.3763 - lr: 0.0010\n",
      "Epoch 81/500\n",
      "91/91 [==============================] - 1s 15ms/step - loss: 99.5172 - val_loss: 94.5938 - lr: 0.0010\n",
      "Epoch 82/500\n",
      "91/91 [==============================] - 2s 18ms/step - loss: 99.4848 - val_loss: 96.1000 - lr: 0.0010\n",
      "Epoch 83/500\n",
      "91/91 [==============================] - 2s 20ms/step - loss: 98.8652 - val_loss: 95.8280 - lr: 0.0010\n",
      "Epoch 84/500\n",
      "91/91 [==============================] - 2s 18ms/step - loss: 97.9612 - val_loss: 97.5665 - lr: 0.0010\n",
      "Epoch 85/500\n",
      "91/91 [==============================] - 2s 18ms/step - loss: 99.2302 - val_loss: 95.5135 - lr: 0.0010\n",
      "Epoch 86/500\n",
      "91/91 [==============================] - 2s 20ms/step - loss: 98.7013 - val_loss: 96.2533 - lr: 0.0010\n",
      "Epoch 87/500\n",
      "91/91 [==============================] - 2s 17ms/step - loss: 98.3227 - val_loss: 99.5724 - lr: 0.0010\n",
      "Epoch 88/500\n",
      "91/91 [==============================] - 2s 19ms/step - loss: 98.6770 - val_loss: 95.8019 - lr: 0.0010\n",
      "Epoch 89/500\n",
      "91/91 [==============================] - 2s 17ms/step - loss: 99.0798 - val_loss: 98.4307 - lr: 0.0010\n",
      "Epoch 90/500\n",
      "91/91 [==============================] - 2s 17ms/step - loss: 97.9870 - val_loss: 97.2132 - lr: 0.0010\n",
      "Epoch 91/500\n",
      "91/91 [==============================] - 2s 18ms/step - loss: 99.6885 - val_loss: 96.9184 - lr: 0.0010\n",
      "Epoch 92/500\n",
      "91/91 [==============================] - 2s 18ms/step - loss: 98.5255 - val_loss: 98.4571 - lr: 0.0010\n",
      "Epoch 93/500\n",
      "91/91 [==============================] - 2s 17ms/step - loss: 98.9208 - val_loss: 95.7330 - lr: 0.0010\n",
      "Epoch 94/500\n",
      "91/91 [==============================] - 2s 19ms/step - loss: 101.1987 - val_loss: 95.1917 - lr: 0.0010\n",
      "Epoch 95/500\n",
      "91/91 [==============================] - 2s 17ms/step - loss: 97.4593 - val_loss: 97.0765 - lr: 0.0010\n",
      "Epoch 96/500\n",
      "91/91 [==============================] - 1s 15ms/step - loss: 98.5422 - val_loss: 95.0728 - lr: 0.0010\n",
      "Epoch 97/500\n",
      "91/91 [==============================] - 1s 15ms/step - loss: 97.7380 - val_loss: 94.8966 - lr: 0.0010\n",
      "Epoch 98/500\n",
      "91/91 [==============================] - 2s 17ms/step - loss: 100.2068 - val_loss: 95.6501 - lr: 0.0010\n",
      "Epoch 99/500\n",
      "91/91 [==============================] - 2s 23ms/step - loss: 99.1202 - val_loss: 95.6631 - lr: 0.0010\n",
      "Epoch 100/500\n",
      "91/91 [==============================] - 2s 19ms/step - loss: 97.6893 - val_loss: 98.0643 - lr: 0.0010\n",
      "Epoch 101/500\n",
      "91/91 [==============================] - 2s 22ms/step - loss: 98.4732 - val_loss: 94.3198 - lr: 0.0010\n",
      "Epoch 102/500\n",
      "91/91 [==============================] - 2s 22ms/step - loss: 97.7755 - val_loss: 95.6330 - lr: 0.0010\n",
      "Epoch 103/500\n",
      "91/91 [==============================] - 2s 20ms/step - loss: 97.3277 - val_loss: 97.5771 - lr: 0.0010\n",
      "Epoch 104/500\n",
      "91/91 [==============================] - 1s 16ms/step - loss: 97.5811 - val_loss: 96.5043 - lr: 0.0010\n",
      "Epoch 105/500\n",
      "91/91 [==============================] - 2s 18ms/step - loss: 97.8736 - val_loss: 94.5510 - lr: 0.0010\n",
      "Epoch 106/500\n",
      "91/91 [==============================] - 1s 15ms/step - loss: 98.0347 - val_loss: 95.5275 - lr: 0.0010\n",
      "Epoch 107/500\n",
      "91/91 [==============================] - 2s 18ms/step - loss: 97.4422 - val_loss: 94.9658 - lr: 0.0010\n",
      "Epoch 108/500\n",
      "91/91 [==============================] - 2s 21ms/step - loss: 97.4703 - val_loss: 95.5672 - lr: 0.0010\n",
      "Epoch 109/500\n",
      "91/91 [==============================] - 2s 20ms/step - loss: 97.7940 - val_loss: 97.0150 - lr: 0.0010\n",
      "Epoch 110/500\n",
      "91/91 [==============================] - 2s 21ms/step - loss: 98.1916 - val_loss: 99.7168 - lr: 0.0010\n",
      "Epoch 111/500\n",
      "91/91 [==============================] - 2s 17ms/step - loss: 96.6469 - val_loss: 94.5333 - lr: 0.0010\n",
      "Epoch 112/500\n",
      "91/91 [==============================] - 1s 15ms/step - loss: 97.2704 - val_loss: 94.2083 - lr: 0.0010\n",
      "Epoch 113/500\n",
      "91/91 [==============================] - 1s 15ms/step - loss: 96.5116 - val_loss: 94.5372 - lr: 0.0010\n",
      "Epoch 114/500\n",
      "91/91 [==============================] - 1s 16ms/step - loss: 97.0152 - val_loss: 94.6126 - lr: 0.0010\n",
      "Epoch 115/500\n",
      "91/91 [==============================] - 1s 14ms/step - loss: 97.5460 - val_loss: 102.2609 - lr: 0.0010\n",
      "Epoch 116/500\n",
      "91/91 [==============================] - 1s 16ms/step - loss: 96.3100 - val_loss: 97.2171 - lr: 0.0010\n",
      "Epoch 117/500\n",
      "91/91 [==============================] - 2s 19ms/step - loss: 96.2310 - val_loss: 97.0202 - lr: 0.0010\n",
      "Epoch 118/500\n",
      "91/91 [==============================] - 2s 27ms/step - loss: 96.0268 - val_loss: 95.4696 - lr: 0.0010\n",
      "Epoch 119/500\n",
      "91/91 [==============================] - 2s 21ms/step - loss: 95.8103 - val_loss: 95.9868 - lr: 0.0010\n",
      "Epoch 120/500\n",
      "91/91 [==============================] - 2s 21ms/step - loss: 96.8741 - val_loss: 98.7330 - lr: 0.0010\n",
      "Epoch 121/500\n",
      "91/91 [==============================] - 2s 19ms/step - loss: 97.4547 - val_loss: 95.7465 - lr: 0.0010\n",
      "Epoch 122/500\n",
      "91/91 [==============================] - 1s 16ms/step - loss: 96.1947 - val_loss: 94.9383 - lr: 0.0010\n",
      "Epoch 123/500\n",
      "91/91 [==============================] - 2s 19ms/step - loss: 96.6489 - val_loss: 96.1512 - lr: 0.0010\n",
      "Epoch 124/500\n",
      "91/91 [==============================] - 2s 20ms/step - loss: 95.4439 - val_loss: 96.9154 - lr: 0.0010\n",
      "Epoch 125/500\n",
      "91/91 [==============================] - 2s 20ms/step - loss: 97.0060 - val_loss: 98.7215 - lr: 0.0010\n",
      "Epoch 126/500\n",
      "91/91 [==============================] - 2s 25ms/step - loss: 96.8839 - val_loss: 95.4747 - lr: 0.0010\n",
      "Epoch 127/500\n",
      "91/91 [==============================] - 2s 24ms/step - loss: 96.9678 - val_loss: 94.7773 - lr: 0.0010\n",
      "Epoch 128/500\n",
      "91/91 [==============================] - 2s 18ms/step - loss: 96.5572 - val_loss: 98.4802 - lr: 0.0010\n",
      "Epoch 129/500\n",
      "91/91 [==============================] - 1s 16ms/step - loss: 96.8585 - val_loss: 96.3271 - lr: 0.0010\n",
      "Epoch 130/500\n",
      "91/91 [==============================] - 1s 15ms/step - loss: 95.9144 - val_loss: 94.8622 - lr: 0.0010\n",
      "Epoch 131/500\n",
      "91/91 [==============================] - 1s 15ms/step - loss: 95.7242 - val_loss: 96.1576 - lr: 0.0010\n",
      "Epoch 132/500\n",
      "91/91 [==============================] - 2s 18ms/step - loss: 95.9218 - val_loss: 95.7418 - lr: 0.0010\n"
     ]
    }
   ],
   "source": [
    "# Compile and train the Cloud2K model\n",
    "\n",
    "from keras.optimizers import RMSprop,Adam\n",
    "from keras import callbacks\n",
    "from keras.callbacks import ReduceLROnPlateau\n",
    "\n",
    "batch_size = 32\n",
    "epochs = 500\n",
    "\n",
    "\n",
    "earlystopping = callbacks.EarlyStopping(monitor =\"val_loss\", \n",
    "                                    mode =\"min\", patience = 20, \n",
    "                                    restore_best_weights = True)\n",
    "reduce_lr = ReduceLROnPlateau(monitor='val_loss', factor=0.2,patience=3, min_lr=0.001)\n",
    "optimizer = tf.keras.optimizers.legacy.Adam(learning_rate = 0.002)\n",
    "    \n",
    "CNN.compile(optimizer = optimizer, loss = 'mean_absolute_error')\n",
    "CNN_ = CNN.fit([X_train_train,X_train_train_ATT], y_train_train, epochs = epochs, \n",
    "                    batch_size = batch_size, validation_data = ([X_valid, X_val_ATT], y_valid) ,\n",
    "                    verbose = 1,callbacks = [earlystopping, reduce_lr] ) "
   ]
  },
  {
   "cell_type": "code",
   "execution_count": 37,
   "id": "3ae40cea",
   "metadata": {},
   "outputs": [
    {
     "name": "stdout",
     "output_type": "stream",
     "text": [
      "117/117 [==============================] - 1s 6ms/step\n"
     ]
    }
   ],
   "source": [
    "I_pred = CNN.predict([X_test,X_test_ATT])"
   ]
  },
  {
   "cell_type": "code",
   "execution_count": 38,
   "id": "90517368",
   "metadata": {
    "scrolled": true
   },
   "outputs": [
    {
     "data": {
      "text/html": [
       "<div>\n",
       "<style scoped>\n",
       "    .dataframe tbody tr th:only-of-type {\n",
       "        vertical-align: middle;\n",
       "    }\n",
       "\n",
       "    .dataframe tbody tr th {\n",
       "        vertical-align: top;\n",
       "    }\n",
       "\n",
       "    .dataframe thead th {\n",
       "        text-align: right;\n",
       "    }\n",
       "</style>\n",
       "<table border=\"1\" class=\"dataframe\">\n",
       "  <thead>\n",
       "    <tr style=\"text-align: right;\">\n",
       "      <th></th>\n",
       "      <th>site_name</th>\n",
       "      <th>I</th>\n",
       "      <th>OLS</th>\n",
       "      <th>poly</th>\n",
       "      <th>yXGB</th>\n",
       "      <th>yRF</th>\n",
       "      <th>CNN</th>\n",
       "    </tr>\n",
       "    <tr>\n",
       "      <th>Datetime</th>\n",
       "      <th></th>\n",
       "      <th></th>\n",
       "      <th></th>\n",
       "      <th></th>\n",
       "      <th></th>\n",
       "      <th></th>\n",
       "      <th></th>\n",
       "    </tr>\n",
       "  </thead>\n",
       "  <tbody>\n",
       "    <tr>\n",
       "      <th>2023-02-07 08:00:00+07:00</th>\n",
       "      <td>ISL001</td>\n",
       "      <td>110.3633</td>\n",
       "      <td>172.252600</td>\n",
       "      <td>138.025779</td>\n",
       "      <td>210.439102</td>\n",
       "      <td>176.293929</td>\n",
       "      <td>141.618530</td>\n",
       "    </tr>\n",
       "    <tr>\n",
       "      <th>2023-02-07 08:30:00+07:00</th>\n",
       "      <td>ISL001</td>\n",
       "      <td>208.3990</td>\n",
       "      <td>313.599855</td>\n",
       "      <td>260.070233</td>\n",
       "      <td>255.959946</td>\n",
       "      <td>281.717812</td>\n",
       "      <td>260.487427</td>\n",
       "    </tr>\n",
       "    <tr>\n",
       "      <th>2023-02-07 09:00:00+07:00</th>\n",
       "      <td>ISL001</td>\n",
       "      <td>437.6490</td>\n",
       "      <td>400.084434</td>\n",
       "      <td>353.791449</td>\n",
       "      <td>374.977234</td>\n",
       "      <td>381.972205</td>\n",
       "      <td>376.279633</td>\n",
       "    </tr>\n",
       "    <tr>\n",
       "      <th>2023-02-07 09:30:00+07:00</th>\n",
       "      <td>ISL001</td>\n",
       "      <td>496.7265</td>\n",
       "      <td>445.340109</td>\n",
       "      <td>416.610174</td>\n",
       "      <td>447.586487</td>\n",
       "      <td>432.071115</td>\n",
       "      <td>479.649170</td>\n",
       "    </tr>\n",
       "    <tr>\n",
       "      <th>2023-02-07 10:00:00+07:00</th>\n",
       "      <td>ISL001</td>\n",
       "      <td>482.6430</td>\n",
       "      <td>547.806455</td>\n",
       "      <td>519.840215</td>\n",
       "      <td>549.731262</td>\n",
       "      <td>506.853844</td>\n",
       "      <td>575.128601</td>\n",
       "    </tr>\n",
       "    <tr>\n",
       "      <th>...</th>\n",
       "      <td>...</td>\n",
       "      <td>...</td>\n",
       "      <td>...</td>\n",
       "      <td>...</td>\n",
       "      <td>...</td>\n",
       "      <td>...</td>\n",
       "      <td>...</td>\n",
       "    </tr>\n",
       "    <tr>\n",
       "      <th>2023-06-29 14:00:00+07:00</th>\n",
       "      <td>ISL042</td>\n",
       "      <td>341.7507</td>\n",
       "      <td>661.496136</td>\n",
       "      <td>676.362402</td>\n",
       "      <td>624.427795</td>\n",
       "      <td>631.765323</td>\n",
       "      <td>714.983826</td>\n",
       "    </tr>\n",
       "    <tr>\n",
       "      <th>2023-06-29 14:30:00+07:00</th>\n",
       "      <td>ISL042</td>\n",
       "      <td>807.5103</td>\n",
       "      <td>799.864254</td>\n",
       "      <td>525.121323</td>\n",
       "      <td>655.842041</td>\n",
       "      <td>716.637547</td>\n",
       "      <td>737.130920</td>\n",
       "    </tr>\n",
       "    <tr>\n",
       "      <th>2023-06-29 15:00:00+07:00</th>\n",
       "      <td>ISL042</td>\n",
       "      <td>620.6790</td>\n",
       "      <td>702.650892</td>\n",
       "      <td>714.141976</td>\n",
       "      <td>727.147827</td>\n",
       "      <td>732.558014</td>\n",
       "      <td>685.834717</td>\n",
       "    </tr>\n",
       "    <tr>\n",
       "      <th>2023-06-29 15:30:00+07:00</th>\n",
       "      <td>ISL042</td>\n",
       "      <td>587.0647</td>\n",
       "      <td>622.343362</td>\n",
       "      <td>619.238278</td>\n",
       "      <td>606.290222</td>\n",
       "      <td>596.626763</td>\n",
       "      <td>573.999817</td>\n",
       "    </tr>\n",
       "    <tr>\n",
       "      <th>2023-06-29 16:00:00+07:00</th>\n",
       "      <td>ISL042</td>\n",
       "      <td>243.3112</td>\n",
       "      <td>437.576804</td>\n",
       "      <td>410.244368</td>\n",
       "      <td>464.586060</td>\n",
       "      <td>421.237247</td>\n",
       "      <td>465.802582</td>\n",
       "    </tr>\n",
       "  </tbody>\n",
       "</table>\n",
       "<p>3730 rows × 7 columns</p>\n",
       "</div>"
      ],
      "text/plain": [
       "                          site_name         I         OLS        poly  \\\n",
       "Datetime                                                                \n",
       "2023-02-07 08:00:00+07:00    ISL001  110.3633  172.252600  138.025779   \n",
       "2023-02-07 08:30:00+07:00    ISL001  208.3990  313.599855  260.070233   \n",
       "2023-02-07 09:00:00+07:00    ISL001  437.6490  400.084434  353.791449   \n",
       "2023-02-07 09:30:00+07:00    ISL001  496.7265  445.340109  416.610174   \n",
       "2023-02-07 10:00:00+07:00    ISL001  482.6430  547.806455  519.840215   \n",
       "...                             ...       ...         ...         ...   \n",
       "2023-06-29 14:00:00+07:00    ISL042  341.7507  661.496136  676.362402   \n",
       "2023-06-29 14:30:00+07:00    ISL042  807.5103  799.864254  525.121323   \n",
       "2023-06-29 15:00:00+07:00    ISL042  620.6790  702.650892  714.141976   \n",
       "2023-06-29 15:30:00+07:00    ISL042  587.0647  622.343362  619.238278   \n",
       "2023-06-29 16:00:00+07:00    ISL042  243.3112  437.576804  410.244368   \n",
       "\n",
       "                                 yXGB         yRF         CNN  \n",
       "Datetime                                                       \n",
       "2023-02-07 08:00:00+07:00  210.439102  176.293929  141.618530  \n",
       "2023-02-07 08:30:00+07:00  255.959946  281.717812  260.487427  \n",
       "2023-02-07 09:00:00+07:00  374.977234  381.972205  376.279633  \n",
       "2023-02-07 09:30:00+07:00  447.586487  432.071115  479.649170  \n",
       "2023-02-07 10:00:00+07:00  549.731262  506.853844  575.128601  \n",
       "...                               ...         ...         ...  \n",
       "2023-06-29 14:00:00+07:00  624.427795  631.765323  714.983826  \n",
       "2023-06-29 14:30:00+07:00  655.842041  716.637547  737.130920  \n",
       "2023-06-29 15:00:00+07:00  727.147827  732.558014  685.834717  \n",
       "2023-06-29 15:30:00+07:00  606.290222  596.626763  573.999817  \n",
       "2023-06-29 16:00:00+07:00  464.586060  421.237247  465.802582  \n",
       "\n",
       "[3730 rows x 7 columns]"
      ]
     },
     "execution_count": 38,
     "metadata": {},
     "output_type": "execute_result"
    }
   ],
   "source": [
    "compare['CNN'] = I_pred\n",
    "compare"
   ]
  },
  {
   "cell_type": "code",
   "execution_count": 39,
   "id": "f9d17ea2",
   "metadata": {},
   "outputs": [
    {
     "data": {
      "text/plain": [
       "96.47514342764407"
      ]
     },
     "execution_count": 39,
     "metadata": {},
     "output_type": "execute_result"
    }
   ],
   "source": [
    "mean_absolute_error(compare[['I']], compare[['CNN']])"
   ]
  },
  {
   "cell_type": "code",
   "execution_count": 42,
   "id": "28a86ec0",
   "metadata": {},
   "outputs": [],
   "source": [
    "# compare.to_csv('compare_model_result.csv')"
   ]
  }
 ],
 "metadata": {
  "kernelspec": {
   "display_name": "Python 3.10 (tensorflow)",
   "language": "python",
   "name": "tensorflow"
  },
  "language_info": {
   "codemirror_mode": {
    "name": "ipython",
    "version": 3
   },
   "file_extension": ".py",
   "mimetype": "text/x-python",
   "name": "python",
   "nbconvert_exporter": "python",
   "pygments_lexer": "ipython3",
   "version": "3.9.6"
  }
 },
 "nbformat": 4,
 "nbformat_minor": 5
}

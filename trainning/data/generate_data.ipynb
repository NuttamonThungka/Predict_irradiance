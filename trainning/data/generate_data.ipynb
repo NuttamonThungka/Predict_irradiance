{
 "cells": [
  {
   "cell_type": "markdown",
   "id": "aa044ecc",
   "metadata": {},
   "source": [
    "# Generate dataset"
   ]
  },
  {
   "cell_type": "markdown",
   "id": "faa1de90",
   "metadata": {},
   "source": [
    "this notebook use to generate the data for train model and test model"
   ]
  },
  {
   "cell_type": "markdown",
   "id": "7ee69546",
   "metadata": {},
   "source": [
    "# Train dataset"
   ]
  },
  {
   "cell_type": "code",
   "execution_count": 1,
   "id": "8566569e",
   "metadata": {},
   "outputs": [],
   "source": [
    "import pandas as pd\n",
    "import numpy as np\n",
    "import os"
   ]
  },
  {
   "cell_type": "code",
   "execution_count": 2,
   "id": "133594f8",
   "metadata": {},
   "outputs": [],
   "source": [
    "FOLDER = '/Users/khunnoot/Desktop/year4/senior_project/solarmap_project/Data'\n",
    "cloud_cm = 'ci_cloudmask.csv'\n",
    "cloud_ov = 'ci_overview.csv'\n",
    "DATASET_cm = 'DATASET_cloudmask.csv'\n",
    "DATASET_ov = 'DATASET_overview.csv'"
   ]
  },
  {
   "cell_type": "code",
   "execution_count": 3,
   "id": "40ed75ca",
   "metadata": {},
   "outputs": [],
   "source": [
    "#load croped_img cloud mask dataset which contain 0-255 pixel with site and datetime\n",
    "Image_CM = pd.read_csv(os.path.join(FOLDER,cloud_cm),parse_dates=True,index_col='Datetime')\n",
    "Image_CM.index = Image_CM.index + pd.DateOffset(minutes=30) # + 30 min because of the lag time of Himawari images\n",
    "Image_CM = Image_CM.reset_index()\n",
    "Image_CM['Datetime']= Image_CM['Datetime'].astype(str)\n",
    "\n",
    "#load croped_img RBG dataset which contain 0-255 pixel with site and datetime\n",
    "Image_R = pd.read_csv(os.path.join(FOLDER,cloud_cm),parse_dates=True,index_col='Datetime')\n",
    "Image_R.index = Image_R.index + pd.DateOffset(minutes=30)\n",
    "Image_R = Image_R.reset_index()\n",
    "Image_R['Datetime']= Image_R['Datetime'].astype(str)\n",
    "\n",
    "\n",
    "#merge cloud mask layer and red channel layer in 'Image_CM_CHRED'\n",
    "Image_CM_CHRED = pd.merge(Image_CM,Image_R,on=['Datetime','site_name'],how='right')"
   ]
  },
  {
   "cell_type": "code",
   "execution_count": 4,
   "id": "a75d9b77",
   "metadata": {},
   "outputs": [],
   "source": [
    "RED_ATT = pd.read_csv(os.path.join(FOLDER,DATASET_cm),parse_dates=True)\n",
    "CM_ATT = pd.read_csv(os.path.join(FOLDER,DATASET_ov),parse_dates=True)"
   ]
  },
  {
   "cell_type": "code",
   "execution_count": 5,
   "id": "89e8e8a4",
   "metadata": {},
   "outputs": [],
   "source": [
    "RED_ATT = RED_ATT[['Datetime','site_name','Iclr','I','k','HR','CI0','CI1']].copy()\n",
    "RED_ATT.rename(columns={'CI0':'CI0_ov','CI1':'CI1_ov'},inplace=True)\n",
    "\n",
    "CM_ATT = CM_ATT[['Datetime','site_name','Iclr','I','k','HR','CI0','CI1']].copy()\n",
    "CM_ATT.rename(columns={'CI0':'CI0_cm','CI1':'CI1_cm'},inplace=True)"
   ]
  },
  {
   "cell_type": "code",
   "execution_count": 6,
   "id": "2b1ceb4a",
   "metadata": {},
   "outputs": [],
   "source": [
    "#merge attribute(ATT) from cloud mask channel and red channel \n",
    "ATT = pd.merge(CM_ATT[['Datetime','site_name','CI0_cm','CI1_cm']],RED_ATT,on=['Datetime','site_name'],how='inner')\n",
    "\n",
    "#keep the intersec dataset from ATT and Images dataset\n",
    "Image_2layers = pd.merge(ATT[['Datetime','site_name','I','Iclr','k']],Image_CM_CHRED,on=['Datetime','site_name'],how='inner')\n",
    "Attribute_2layers = pd.merge(ATT,Image_CM_CHRED[['Datetime','site_name']],on=['Datetime','site_name'],how='inner')\n"
   ]
  },
  {
   "cell_type": "code",
   "execution_count": 13,
   "id": "0dbd2670",
   "metadata": {},
   "outputs": [],
   "source": [
    "Image_train = Image_2layers[((Image_2layers.site_name == 'ISL001'))|(Image_2layers.site_name == 'ISL033') |\n",
    "              (Image_2layers.site_name == 'ISL036') | (Image_2layers.site_name == 'ISL042')]\n",
    "Attribute_train = Attribute_2layers[((Attribute_2layers.site_name == 'ISL001'))|(Attribute_2layers.site_name == 'ISL033') |\n",
    "              (Attribute_2layers.site_name == 'ISL036') | (Attribute_2layers.site_name == 'ISL042')]"
   ]
  },
  {
   "cell_type": "code",
   "execution_count": 18,
   "id": "d2fc8440",
   "metadata": {},
   "outputs": [],
   "source": [
    "Image_train.to_csv('Image_train.csv', index = False)\n",
    "Attribute_train.to_csv('Attribute_train.csv', index = False)"
   ]
  },
  {
   "cell_type": "markdown",
   "id": "7dc84b33",
   "metadata": {},
   "source": [
    "# Test dataset"
   ]
  },
  {
   "cell_type": "code",
   "execution_count": 85,
   "id": "92f1e5f5",
   "metadata": {},
   "outputs": [],
   "source": [
    "FOLDER_test = '/Users/khunnoot/Desktop/predict_irradiance/implementation/Data'\n",
    "ci_cloudmask_test = 'ci_cloudmask_Synergy.csv'\n",
    "ci_overview_test = 'ci_overview_Synergy.csv'"
   ]
  },
  {
   "cell_type": "code",
   "execution_count": 86,
   "id": "2fdfa7ce",
   "metadata": {},
   "outputs": [],
   "source": [
    "cm_test = pd.read_csv(os.path.join(FOLDER_test,ci_cloudmask_test), parse_dates = ['Datetime'], index_col = 'Datetime')\n",
    "ov_test = pd.read_csv(os.path.join(FOLDER_test,ci_overview_test), parse_dates = ['Datetime'], index_col = 'Datetime')"
   ]
  },
  {
   "cell_type": "code",
   "execution_count": 87,
   "id": "f9e6d688",
   "metadata": {},
   "outputs": [],
   "source": [
    "# CI0 , CI1 are CI(t-1) , CI(t-2) respectively\n",
    "cmlag = cm_test[['site_name','CI']].copy()\n",
    "cmlag1 = cmlag.shift(freq='+30T') # for lag time merging\n",
    "cmlag = cmlag.merge(cmlag1,on=['Datetime','site_name'],how='inner')\n",
    "cmlag = cmlag.rename(columns={'CI_x':'CI0','CI_y':'CI1'})\n",
    "cm_test = pd.merge(cm_test,cmlag, on = ['Datetime','site_name'], how = 'inner')\n",
    "\n",
    "ovlag = ov_test[['site_name','CI']].copy()\n",
    "ovlag1 = ovlag.shift(freq='+30T') # for lag time merging\n",
    "ovlag = ovlag.merge(ovlag1,on=['Datetime','site_name'],how='inner')\n",
    "ovlag = ovlag.rename(columns={'CI_x':'CI0','CI_y':'CI1'})\n",
    "ov_test = pd.merge(ov_test,clag, on = ['Datetime','site_name'], how = 'inner')"
   ]
  },
  {
   "cell_type": "code",
   "execution_count": 88,
   "id": "5b62c4a3",
   "metadata": {},
   "outputs": [],
   "source": [
    "cm_test = cm_test[['site_name','CI0','CI1']].copy()\n",
    "cm_test.rename(columns={'CI0':'CI0_cm','CI1':'CI1_cm'},inplace=True)\n",
    "\n",
    "ov_test = ov_test[['site_name','CI0','CI1']].copy()\n",
    "ov_test.rename(columns={'CI0':'CI0_ov','CI1':'CI1_ov'},inplace=True)"
   ]
  },
  {
   "cell_type": "code",
   "execution_count": 91,
   "id": "21192b33",
   "metadata": {},
   "outputs": [],
   "source": [
    "Synergy_test = pd.merge(cm_test,ov_test, on = ['Datetime','site_name'], how = 'inner')"
   ]
  },
  {
   "cell_type": "code",
   "execution_count": 92,
   "id": "413a4ead",
   "metadata": {},
   "outputs": [],
   "source": [
    "from SolarCalculator.clearskycal import calsolar\n",
    "\n",
    "#coordinate of Synergy\n",
    "Synergy_test['lat'] = 14.00294247371573\n",
    "Synergy_test['lng'] = 100.6267303787081 \n",
    "Synergy_test['alt'] = 5.0"
   ]
  },
  {
   "cell_type": "code",
   "execution_count": 93,
   "id": "aea73bd6",
   "metadata": {},
   "outputs": [],
   "source": [
    "#calculate zenith angle , Airmass, clear-sky irradiance and hour index\n",
    "Synergy_test['zna'] = calsolar.cal_dzna(Synergy_test, Synergy_test.lat, Synergy_test.lng)\n",
    "Synergy_test['AM'] = calsolar.cal_dairmass(Synergy_test, Synergy_test.lat, Synergy_test.lng)\n",
    "Synergy_test['Iclr'] = calsolar.cal_dclearsky(Synergy_test, Synergy_test.lat, Synergy_test.lng,\n",
    "                                             Synergy_test.alt, TL = 4.773765928887537)\n",
    "Synergy_test['HR'] = Synergy_test.index.hour"
   ]
  },
  {
   "cell_type": "code",
   "execution_count": 94,
   "id": "f67346cb",
   "metadata": {},
   "outputs": [],
   "source": [
    "Synergy_test = Synergy_test[['CI0_cm','CI1_cm','CI0_ov','CI1_ov','Iclr','HR']]"
   ]
  },
  {
   "cell_type": "code",
   "execution_count": 81,
   "id": "60c6dbcf",
   "metadata": {},
   "outputs": [],
   "source": [
    "# Synergy_test.to_csv('Synergy_testset.csv')"
   ]
  },
  {
   "cell_type": "code",
   "execution_count": 98,
   "id": "fd7f6313",
   "metadata": {},
   "outputs": [
    {
     "data": {
      "text/html": [
       "<div>\n",
       "<style scoped>\n",
       "    .dataframe tbody tr th:only-of-type {\n",
       "        vertical-align: middle;\n",
       "    }\n",
       "\n",
       "    .dataframe tbody tr th {\n",
       "        vertical-align: top;\n",
       "    }\n",
       "\n",
       "    .dataframe thead th {\n",
       "        text-align: right;\n",
       "    }\n",
       "</style>\n",
       "<table border=\"1\" class=\"dataframe\">\n",
       "  <thead>\n",
       "    <tr style=\"text-align: right;\">\n",
       "      <th></th>\n",
       "      <th>Datetime</th>\n",
       "      <th>CI0_cm</th>\n",
       "      <th>CI1_cm</th>\n",
       "      <th>CI0_ov</th>\n",
       "      <th>CI1_ov</th>\n",
       "      <th>Iclr</th>\n",
       "      <th>HR</th>\n",
       "    </tr>\n",
       "  </thead>\n",
       "  <tbody>\n",
       "    <tr>\n",
       "      <th>0</th>\n",
       "      <td>2023-03-08 08:20:00</td>\n",
       "      <td>0.023529</td>\n",
       "      <td>0.023529</td>\n",
       "      <td>0.341176</td>\n",
       "      <td>0.325490</td>\n",
       "      <td>327.238765</td>\n",
       "      <td>8</td>\n",
       "    </tr>\n",
       "    <tr>\n",
       "      <th>1</th>\n",
       "      <td>2023-06-24 09:10:00</td>\n",
       "      <td>0.360784</td>\n",
       "      <td>0.376471</td>\n",
       "      <td>0.560784</td>\n",
       "      <td>0.674510</td>\n",
       "      <td>636.343053</td>\n",
       "      <td>9</td>\n",
       "    </tr>\n",
       "    <tr>\n",
       "      <th>2</th>\n",
       "      <td>2023-05-24 14:40:00</td>\n",
       "      <td>0.035294</td>\n",
       "      <td>0.031373</td>\n",
       "      <td>0.278431</td>\n",
       "      <td>0.270588</td>\n",
       "      <td>771.130046</td>\n",
       "      <td>14</td>\n",
       "    </tr>\n",
       "    <tr>\n",
       "      <th>3</th>\n",
       "      <td>2023-04-21 18:40:00</td>\n",
       "      <td>0.000000</td>\n",
       "      <td>0.000000</td>\n",
       "      <td>0.031373</td>\n",
       "      <td>0.470588</td>\n",
       "      <td>0.000000</td>\n",
       "      <td>18</td>\n",
       "    </tr>\n",
       "    <tr>\n",
       "      <th>4</th>\n",
       "      <td>2023-03-30 16:40:00</td>\n",
       "      <td>0.066667</td>\n",
       "      <td>0.086275</td>\n",
       "      <td>0.431373</td>\n",
       "      <td>0.454902</td>\n",
       "      <td>334.519394</td>\n",
       "      <td>16</td>\n",
       "    </tr>\n",
       "    <tr>\n",
       "      <th>...</th>\n",
       "      <td>...</td>\n",
       "      <td>...</td>\n",
       "      <td>...</td>\n",
       "      <td>...</td>\n",
       "      <td>...</td>\n",
       "      <td>...</td>\n",
       "      <td>...</td>\n",
       "    </tr>\n",
       "    <tr>\n",
       "      <th>9296</th>\n",
       "      <td>2023-06-29 18:20:00</td>\n",
       "      <td>0.890196</td>\n",
       "      <td>0.921569</td>\n",
       "      <td>0.533333</td>\n",
       "      <td>0.776471</td>\n",
       "      <td>20.518187</td>\n",
       "      <td>18</td>\n",
       "    </tr>\n",
       "    <tr>\n",
       "      <th>9297</th>\n",
       "      <td>2023-04-30 07:40:00</td>\n",
       "      <td>0.337255</td>\n",
       "      <td>0.482353</td>\n",
       "      <td>0.000000</td>\n",
       "      <td>0.482353</td>\n",
       "      <td>301.773902</td>\n",
       "      <td>7</td>\n",
       "    </tr>\n",
       "    <tr>\n",
       "      <th>9298</th>\n",
       "      <td>2023-06-13 07:30:00</td>\n",
       "      <td>0.125490</td>\n",
       "      <td>0.113725</td>\n",
       "      <td>0.235294</td>\n",
       "      <td>0.274510</td>\n",
       "      <td>270.773465</td>\n",
       "      <td>7</td>\n",
       "    </tr>\n",
       "    <tr>\n",
       "      <th>9299</th>\n",
       "      <td>2023-02-08 09:10:00</td>\n",
       "      <td>0.007843</td>\n",
       "      <td>0.015686</td>\n",
       "      <td>0.325490</td>\n",
       "      <td>0.337255</td>\n",
       "      <td>443.313980</td>\n",
       "      <td>9</td>\n",
       "    </tr>\n",
       "    <tr>\n",
       "      <th>9300</th>\n",
       "      <td>2023-02-14 07:20:00</td>\n",
       "      <td>0.039216</td>\n",
       "      <td>0.098039</td>\n",
       "      <td>0.384314</td>\n",
       "      <td>0.368627</td>\n",
       "      <td>45.807321</td>\n",
       "      <td>7</td>\n",
       "    </tr>\n",
       "  </tbody>\n",
       "</table>\n",
       "<p>9301 rows × 7 columns</p>\n",
       "</div>"
      ],
      "text/plain": [
       "                 Datetime    CI0_cm    CI1_cm    CI0_ov    CI1_ov        Iclr  \\\n",
       "0     2023-03-08 08:20:00  0.023529  0.023529  0.341176  0.325490  327.238765   \n",
       "1     2023-06-24 09:10:00  0.360784  0.376471  0.560784  0.674510  636.343053   \n",
       "2     2023-05-24 14:40:00  0.035294  0.031373  0.278431  0.270588  771.130046   \n",
       "3     2023-04-21 18:40:00  0.000000  0.000000  0.031373  0.470588    0.000000   \n",
       "4     2023-03-30 16:40:00  0.066667  0.086275  0.431373  0.454902  334.519394   \n",
       "...                   ...       ...       ...       ...       ...         ...   \n",
       "9296  2023-06-29 18:20:00  0.890196  0.921569  0.533333  0.776471   20.518187   \n",
       "9297  2023-04-30 07:40:00  0.337255  0.482353  0.000000  0.482353  301.773902   \n",
       "9298  2023-06-13 07:30:00  0.125490  0.113725  0.235294  0.274510  270.773465   \n",
       "9299  2023-02-08 09:10:00  0.007843  0.015686  0.325490  0.337255  443.313980   \n",
       "9300  2023-02-14 07:20:00  0.039216  0.098039  0.384314  0.368627   45.807321   \n",
       "\n",
       "      HR  \n",
       "0      8  \n",
       "1      9  \n",
       "2     14  \n",
       "3     18  \n",
       "4     16  \n",
       "...   ..  \n",
       "9296  18  \n",
       "9297   7  \n",
       "9298   7  \n",
       "9299   9  \n",
       "9300   7  \n",
       "\n",
       "[9301 rows x 7 columns]"
      ]
     },
     "execution_count": 98,
     "metadata": {},
     "output_type": "execute_result"
    }
   ],
   "source": [
    "Synergy_test"
   ]
  }
 ],
 "metadata": {
  "kernelspec": {
   "display_name": "Python 3 (ipykernel)",
   "language": "python",
   "name": "python3"
  },
  "language_info": {
   "codemirror_mode": {
    "name": "ipython",
    "version": 3
   },
   "file_extension": ".py",
   "mimetype": "text/x-python",
   "name": "python",
   "nbconvert_exporter": "python",
   "pygments_lexer": "ipython3",
   "version": "3.11.4"
  }
 },
 "nbformat": 4,
 "nbformat_minor": 5
}
